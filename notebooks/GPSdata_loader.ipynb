{
 "cells": [
  {
   "cell_type": "markdown",
   "metadata": {},
   "source": [
    "## GPS data loading and visualisation\n",
    "\n",
    "Sampling rate of the GPS receiver: 30 points per second\n",
    "The data files must:\n",
    "\n",
    "- be located in the data folder of the project\n",
    "- be given as string inputs to the dataloader without extension\n",
    "- have the extension .txt\n",
    "- have the following format starting from the second line:\n",
    "\n",
    "  Zeit (sec),\tWBMS (m/s),\tLatitude (x), Longitude (y), Tag, Monat, Jahr, Stunden, Minuten, Sekunden \n"
   ]
  },
  {
   "cell_type": "code",
   "execution_count": 16,
   "metadata": {
    "collapsed": true
   },
   "outputs": [],
   "source": [
    "import numpy as np\n",
    "import matplotlib.pyplot as plt\n",
    "from decimal import Decimal"
   ]
  },
  {
   "cell_type": "code",
   "execution_count": 17,
   "metadata": {
    "collapsed": true
   },
   "outputs": [],
   "source": [
    "datafiles=[\"ertugh_pos_reifen_mike_aufzeichnung_1\"] # example\n",
    "totallines=0\n",
    "# Time - sec, X_Latitude(x), X_Longitude(y), Stunden, Minuten, Sekunden, TimeStampLow\n",
    "\n",
    "for i in range(len(datafiles)):\n",
    "    file = open(\"gpsdata/\"+datafiles[i]+\".txt\", 'r')\n",
    "    lines = file.readlines()\n",
    "    file.close()\n",
    "    gps_matrix = np.zeros((len(lines)-2,10))\n",
    "    for j in range(1,len(lines)-1):\n",
    "        gps_matrix[j-1]=[Decimal(k.replace(',','.')) for k in lines[j].split()]"
   ]
  },
  {
   "cell_type": "code",
   "execution_count": 33,
   "metadata": {},
   "outputs": [
    {
     "data": {
      "image/png": "[encoded data removed]",
      "text/plain": [
       "<Figure size 432x288 with 1 Axes>"
      ]
     },
     "metadata": {
      "needs_background": "light"
     },
     "output_type": "display_data"
    }
   ],
   "source": [
    "plt.plot(gps_matrix[:,2], gps_matrix[:,3],'ro')\n",
    "plt.title('Position of the tractor')\n",
    "plt.xlabel('Latitude (x)')\n",
    "plt.ylabel('Longitude (y)')\n",
    "plt.show()"
   ]
  }
 ],
 "metadata": {
  "kernelspec": {
   "display_name": "Python 3",
   "language": "python",
   "name": "python3"
  },
  "language_info": {
   "codemirror_mode": {
    "name": "ipython",
    "version": 3
   },
   "file_extension": ".py",
   "mimetype": "text/x-python",
   "name": "python",
   "nbconvert_exporter": "python",
   "pygments_lexer": "ipython3",
   "version": "3.7.9"
  },
  "toc": {
   "base_numbering": 1,
   "nav_menu": {},
   "number_sections": true,
   "sideBar": true,
   "skip_h1_title": false,
   "title_cell": "Table of Contents",
   "title_sidebar": "Contents",
   "toc_cell": false,
   "toc_position": {},
   "toc_section_display": true,
   "toc_window_display": false
  },
  "varInspector": {
   "cols": {
    "lenName": 16,
    "lenType": 16,
    "lenVar": 40
   },
   "kernels_config": {
    "python": {
     "delete_cmd_postfix": "",
     "delete_cmd_prefix": "del ",
     "library": "var_list.py",
     "varRefreshCmd": "print(var_dic_list())"
    },
    "r": {
     "delete_cmd_postfix": ") ",
     "delete_cmd_prefix": "rm(",
     "library": "var_list.r",
     "varRefreshCmd": "cat(var_dic_list()) "
    }
   },
   "types_to_exclude": [
    "module",
    "function",
    "builtin_function_or_method",
    "instance",
    "_Feature"
   ],
   "window_display": false
  }
 },
 "nbformat": 4,
 "nbformat_minor": 2
}
