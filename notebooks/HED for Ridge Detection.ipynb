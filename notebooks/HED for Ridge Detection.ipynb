{
 "cells": [
  {
   "cell_type": "markdown",
   "metadata": {},
   "source": [
    "# Imports & Initialization"
   ]
  },
  {
   "cell_type": "code",
   "execution_count": null,
   "metadata": {
    "ExecuteTime": {
     "end_time": "2021-02-03T17:54:06.973179Z",
     "start_time": "2021-02-03T17:54:06.968963Z"
    }
   },
   "outputs": [],
   "source": [
    "# Move to the root\n",
    "import os\n",
    "cwd = os.getcwd()\n",
    "if os.path.basename(cwd) != \"cv-in-farming\":\n",
    "    os.chdir(\"../\")\n",
    "print(\"Current directory:\", os.getcwd())"
   ]
  },
  {
   "cell_type": "code",
   "execution_count": null,
   "metadata": {
    "ExecuteTime": {
     "end_time": "2021-02-03T17:54:08.409266Z",
     "start_time": "2021-02-03T17:54:07.572645Z"
    },
    "code_folding": []
   },
   "outputs": [],
   "source": [
    "import torch\n",
    "from torch.utils.data import DataLoader\n",
    "\n",
    "from src.dataloader import FurrowDataset\n",
    "from src.model import RidgeDetector\n",
    "from src.solver import Solver\n",
    "from utils.helpers import save_checkpoint, load_checkpoint\n",
    "\n",
    "optimizers = {\n",
    "    \"adam\": torch.optim.Adam,\n",
    "    \"sgd\": torch.optim.SGD,\n",
    "    #...\n",
    "}\n",
    "\n",
    "%matplotlib inline\n",
    "%load_ext autoreload\n",
    "%autoreload 2"
   ]
  },
  {
   "cell_type": "markdown",
   "metadata": {},
   "source": [
    "## Dataset"
   ]
  },
  {
   "cell_type": "code",
   "execution_count": null,
   "metadata": {
    "ExecuteTime": {
     "end_time": "2021-02-03T18:02:57.296843Z",
     "start_time": "2021-02-03T18:02:57.138038Z"
    }
   },
   "outputs": [],
   "source": [
    "output_trans = [\"to_tensor\"]\n",
    "input_trans = output_trans + [\"normalize\"]\n",
    "\n",
    "train_data_args = {\n",
    "    \"data_path\": \"dataset/20201112_140127\",\n",
    "    \"input_trans\": input_trans,\n",
    "    \"output_trans\": output_trans,\n",
    "    \"load_darr\": True,\n",
    "    \"load_edge\": True,\n",
    "    \"load_rgb\": True,\n",
    "    \"load_drgb\": True,\n",
    "    \"load_time\": False,\n",
    "    \"start\": 0,\n",
    "    \"end\": 1000,\n",
    "    \"max_frames\": 64,\n",
    "}\n",
    "\n",
    "val_data_args = {\n",
    "    \"data_path\": \"dataset/20201112_140127\",\n",
    "    \"input_trans\": input_trans,\n",
    "    \"output_trans\": output_trans,\n",
    "    \"load_darr\": True,\n",
    "    \"load_edge\": True,\n",
    "    \"load_rgb\": False,\n",
    "    \"load_drgb\": False,\n",
    "    \"load_time\": False,\n",
    "    \"start\": 1500,\n",
    "    \"end\": np.inf,\n",
    "    \"max_frames\": 32,\n",
    "}\n",
    "\n",
    "test_data_args = {\n",
    "    \"data_path\": \"dataset/20201112_140127\",\n",
    "    \"input_trans\": input_trans,\n",
    "    \"output_trans\": output_trans,\n",
    "    \"load_darr\": True,\n",
    "    \"load_edge\": True,\n",
    "    \"load_rgb\": True,\n",
    "    \"load_drgb\": True,\n",
    "    \"load_time\": False,\n",
    "    \"start\": 1500,\n",
    "    \"end\": np.inf,\n",
    "    \"max_frames\": 8,\n",
    "}\n",
    "\n",
    "train_dataset = FurrowDataset(train_data_args)\n",
    "print(train_dataset)\n",
    "\n",
    "val_dataset = FurrowDataset(val_data_args)\n",
    "print(val_dataset)\n",
    "\n",
    "test_dataset = FurrowDataset(test_data_args)\n",
    "print(test_dataset)\n",
    "\n",
    "train_dataset.save_args(\"checkpoint/train_data_args\")\n",
    "val_dataset.save_args(\"checkpoint/val_data_args\")\n",
    "test_dataset.save_args(\"checkpoint/test_data_args\")"
   ]
  },
  {
   "cell_type": "markdown",
   "metadata": {
    "heading_collapsed": true
   },
   "source": [
    "### Inspect Datasets"
   ]
  },
  {
   "cell_type": "code",
   "execution_count": null,
   "metadata": {
    "ExecuteTime": {
     "end_time": "2021-02-01T20:17:10.322581Z",
     "start_time": "2021-02-01T20:17:10.302844Z"
    },
    "hidden": true
   },
   "outputs": [],
   "source": [
    "print(train_dataset.frame_ids)\n",
    "print(val_dataset.frame_ids)"
   ]
  },
  {
   "cell_type": "code",
   "execution_count": null,
   "metadata": {
    "ExecuteTime": {
     "end_time": "2021-02-01T20:19:35.030742Z",
     "start_time": "2021-02-01T20:19:34.630672Z"
    },
    "hidden": true
   },
   "outputs": [],
   "source": [
    "from utils.helpers import show_image, show_image_pairs, coord_to_mask\n",
    "rand_idx = np.random.randint(0, 100)\n",
    "item = train_dataset.__getitem__(rand_idx)\n",
    "print(item)\n",
    "frame_id = item[\"frame_id\"]\n",
    "\n",
    "print(f\"Random Index: {rand_idx} <-> Frame ID: {frame_id}\")\n",
    "\n",
    "shape = (480, 640)\n",
    "if train_data_args[\"load_darr\"]:\n",
    "    depth_arr = np.array(item['depth_arr'])\n",
    "    print(f\"Depth array shape: {depth_arr.shape}\")\n",
    "\n",
    "if train_data_args[\"load_edge\"]:\n",
    "    edge_mask = item['edge_mask']\n",
    "    show_image(edge_mask.permute(1,2,0), cmap=\"gray\")\n",
    "\n",
    "if train_data_args[\"load_rgb\"]:\n",
    "    rgb_img = item['rgb_img']\n",
    "    show_image(rgb_img.permute(1,2,0))\n",
    "\n",
    "if train_data_args[\"load_drgb\"]:\n",
    "    depth_img = item['depth_img']\n",
    "    show_image(depth_img.permute(1,2,0))\n",
    "\n",
    "if train_data_args[\"load_time\"]:\n",
    "    time = np.array(item['time'])\n",
    "    print(f\"Timestamp: {time}\")"
   ]
  },
  {
   "cell_type": "markdown",
   "metadata": {},
   "source": [
    "## Model & Optimizer"
   ]
  },
  {
   "cell_type": "markdown",
   "metadata": {
    "heading_collapsed": true
   },
   "source": [
    "### Create New Model & Optimizer Instance"
   ]
  },
  {
   "cell_type": "code",
   "execution_count": null,
   "metadata": {
    "ExecuteTime": {
     "end_time": "2021-02-03T17:48:30.796067Z",
     "start_time": "2021-02-03T17:48:29.926683Z"
    },
    "hidden": true
   },
   "outputs": [],
   "source": [
    "model_args = {\n",
    "    \"pretrained\": True,\n",
    "    \"fuse\": True,\n",
    "}\n",
    "\n",
    "optim_args = {\n",
    "    \"lr\": 0.001,\n",
    "    \"betas\": (0.9, 0.999),\n",
    "    \"eps\": 1e-08,\n",
    "    \"weight_decay\": 0,\n",
    "    \"amsgrad\": False,\n",
    "}\n",
    "\n",
    "model = RidgeDetector(model_args)\n",
    "optim = optimizers['adam'](filter(lambda p: p.requires_grad, model.parameters()), **optim_args)\n",
    "\n",
    "print(model)\n",
    "print(optim)"
   ]
  },
  {
   "cell_type": "markdown",
   "metadata": {
    "heading_collapsed": true
   },
   "source": [
    "### Load Stored Model & Optimizer"
   ]
  },
  {
   "cell_type": "code",
   "execution_count": null,
   "metadata": {
    "hidden": true
   },
   "outputs": [],
   "source": [
    "epoch = 1\n",
    "ckpt_path = f\"checkpoint/{epoch}_ckpt.pth\"\n",
    "last_epoch, last_loss, last_acc, model, optim = load_checkpoint(ckpt_path)"
   ]
  },
  {
   "cell_type": "markdown",
   "metadata": {},
   "source": [
    "### Load Original HED"
   ]
  },
  {
   "cell_type": "code",
   "execution_count": null,
   "metadata": {
    "ExecuteTime": {
     "end_time": "2021-02-03T17:54:14.581577Z",
     "start_time": "2021-02-03T17:54:13.105722Z"
    },
    "scrolled": true
   },
   "outputs": [],
   "source": [
    "model_args = {\n",
    "    \"pretrained\": False,\n",
    "    \"fuse\": True,\n",
    "}\n",
    "weight_map = {\n",
    " 'stage1.0.weight':'moduleVggOne.0.weight',\n",
    " 'stage1.0.bias': 'moduleVggOne.0.bias',\n",
    " 'stage1.2.weight': 'moduleVggOne.2.weight',\n",
    " 'stage1.2.bias': 'moduleVggOne.2.bias',\n",
    " 'sideout1.0.weight': 'moduleScoreOne.weight',\n",
    " 'sideout1.0.bias': 'moduleScoreOne.bias',\n",
    " 'stage2.5.weight':  'moduleVggTwo.1.weight',\n",
    " 'stage2.5.bias':  'moduleVggTwo.1.bias',\n",
    " 'stage2.7.weight':  'moduleVggTwo.3.weight',\n",
    " 'stage2.7.bias':  'moduleVggTwo.3.bias',\n",
    " 'sideout2.0.weight':  'moduleScoreTwo.weight',\n",
    " 'sideout2.0.bias':  'moduleScoreTwo.bias',\n",
    " 'stage3.10.weight':  'moduleVggThr.1.weight',\n",
    " 'stage3.10.bias':  'moduleVggThr.1.bias',\n",
    " 'stage3.12.weight':  'moduleVggThr.3.weight',\n",
    " 'stage3.12.bias':  'moduleVggThr.3.bias',\n",
    " 'stage3.14.weight':  'moduleVggThr.5.weight',\n",
    " 'stage3.14.bias':  'moduleVggThr.5.bias',\n",
    " 'sideout3.0.weight':  'moduleScoreThr.weight',\n",
    " 'sideout3.0.bias':  'moduleScoreThr.bias',\n",
    " 'stage4.17.weight':  'moduleVggFou.1.weight',\n",
    " 'stage4.17.bias':  'moduleVggFou.1.bias',\n",
    " 'stage4.19.weight':  'moduleVggFou.3.weight',\n",
    " 'stage4.19.bias':  'moduleVggFou.3.bias',\n",
    " 'stage4.21.weight':  'moduleVggFou.5.weight',\n",
    " 'stage4.21.bias':  'moduleVggFou.5.bias',\n",
    " 'sideout4.0.weight':  'moduleScoreFou.weight',\n",
    " 'sideout4.0.bias':  'moduleScoreFou.bias',\n",
    " 'stage5.24.weight':  'moduleVggFiv.1.weight',\n",
    " 'stage5.24.bias':  'moduleVggFiv.1.bias',\n",
    " 'stage5.26.weight':  'moduleVggFiv.3.weight',\n",
    " 'stage5.26.bias':  'moduleVggFiv.3.bias',\n",
    " 'stage5.28.weight':  'moduleVggFiv.5.weight',\n",
    " 'stage5.28.bias':  'moduleVggFiv.5.bias',\n",
    " 'sideout5.0.weight':  'moduleScoreFiv.weight',\n",
    " 'sideout5.0.bias':  'moduleScoreFiv.bias',\n",
    " 'fuse.weight': 'moduleCombine.0.weight',\n",
    " 'fuse.bias': 'moduleCombine.0.bias',\n",
    "}\n",
    "\n",
    "ckpt_path = \"checkpoint/network-bsds500.pytorch\"\n",
    "checkpoint = torch.load(ckpt_path)\n",
    "\n",
    "model = RidgeDetector(model_args)\n",
    "\n",
    "state = {}\n",
    "for k1 in model.state_dict().keys():\n",
    "    k2 = weight_map[k1]\n",
    "    state[k1] = checkpoint[k2]\n",
    "    \n",
    "model.load_state_dict(state)"
   ]
  },
  {
   "cell_type": "markdown",
   "metadata": {},
   "source": [
    "## Solver"
   ]
  },
  {
   "cell_type": "code",
   "execution_count": null,
   "metadata": {
    "ExecuteTime": {
     "end_time": "2021-02-03T18:03:13.720826Z",
     "start_time": "2021-02-03T18:03:13.700631Z"
    }
   },
   "outputs": [],
   "source": [
    "solver_args = {\n",
    "    \"device\": torch.device(\"cuda:0\" if torch.cuda.is_available() else \"cpu\"),\n",
    "    \"loss_func\": \"bce\",\n",
    "    \"metric_func\": \"f1\",\n",
    "    \"log_path\": \"log\",\n",
    "}\n",
    "\n",
    "solver = Solver(solver_args)\n",
    "\n",
    "print(solver)"
   ]
  },
  {
   "cell_type": "markdown",
   "metadata": {
    "ExecuteTime": {
     "end_time": "2020-11-30T12:30:37.997825Z",
     "start_time": "2020-11-30T12:30:37.979214Z"
    },
    "heading_collapsed": true
   },
   "source": [
    "# Train"
   ]
  },
  {
   "cell_type": "code",
   "execution_count": null,
   "metadata": {
    "ExecuteTime": {
     "end_time": "2021-02-03T17:29:30.238540Z",
     "start_time": "2021-02-03T17:29:30.223607Z"
    },
    "hidden": true
   },
   "outputs": [],
   "source": [
    "batch_size = 8\n",
    "train_loader = DataLoader(train_dataset, batch_size=batch_size, shuffle=True, num_workers=0)\n",
    "val_loader = DataLoader(val_dataset, batch_size=batch_size, shuffle=True, num_workers=0)\n",
    "print(f\"Total train iterations (batch count): {len(train_loader)}\")\n",
    "print(f\"Total validation iterations (batch count): {len(val_loader)}\")"
   ]
  },
  {
   "cell_type": "code",
   "execution_count": null,
   "metadata": {
    "ExecuteTime": {
     "end_time": "2021-02-03T17:31:27.785707Z",
     "start_time": "2021-02-03T17:29:32.339793Z"
    },
    "hidden": true,
    "scrolled": true
   },
   "outputs": [],
   "source": [
    "train_args = {\n",
    "    \"ckpt_path\": \"checkpoint\",\n",
    "    \"max_epochs\": 10,\n",
    "    \"ckpt_freq\": 0,  # in epochs\n",
    "    \"val_freq\": 1,   # in epochs\n",
    "    \"log_freq\": 2,   # in iterations\n",
    "    \"vis_freq\": 4,   # in iterations\n",
    "}\n",
    "solver.train(model, optim, train_loader, val_loader, train_args)"
   ]
  },
  {
   "cell_type": "code",
   "execution_count": null,
   "metadata": {
    "ExecuteTime": {
     "end_time": "2021-02-01T20:24:52.108568Z",
     "start_time": "2021-02-01T20:24:51.847257Z"
    },
    "hidden": true
   },
   "outputs": [],
   "source": [
    "save_checkpoint(train_args['ckpt_path'], 1, model, optim, loss=None, acc=None)"
   ]
  },
  {
   "cell_type": "markdown",
   "metadata": {},
   "source": [
    "# Test"
   ]
  },
  {
   "cell_type": "code",
   "execution_count": null,
   "metadata": {
    "ExecuteTime": {
     "end_time": "2021-02-03T18:03:16.517365Z",
     "start_time": "2021-02-03T18:03:16.506436Z"
    }
   },
   "outputs": [],
   "source": [
    "batch_size = 8\n",
    "test_loader = DataLoader(test_dataset, batch_size=batch_size, shuffle=False, num_workers=0)\n",
    "print(f\"Total test iterations (batch count): {len(test_loader)}\")"
   ]
  },
  {
   "cell_type": "code",
   "execution_count": null,
   "metadata": {
    "ExecuteTime": {
     "end_time": "2021-02-03T18:03:20.379118Z",
     "start_time": "2021-02-03T18:03:19.273693Z"
    },
    "scrolled": true
   },
   "outputs": [],
   "source": [
    "results = solver.test(model, test_loader)"
   ]
  },
  {
   "cell_type": "markdown",
   "metadata": {},
   "source": [
    "# Generate Video from Frames"
   ]
  },
  {
   "cell_type": "code",
   "execution_count": null,
   "metadata": {
    "ExecuteTime": {
     "end_time": "2021-01-21T19:30:22.486835Z",
     "start_time": "2021-01-21T19:30:11.920196Z"
    }
   },
   "outputs": [],
   "source": [
    "from matplotlib.animation import FFMpegWriter\n",
    "\n",
    "plt.rcParams['animation.ffmpeg_path'] = '/usr/bin/ffmpeg'\n",
    "\n",
    "folder = \"front(20201112_140127)\"\n",
    "fig = plt.figure()\n",
    "cut = folder_frame_map[folder][150:450]\n",
    "\n",
    "# Fixing random state for reproducibility\n",
    "metadata = dict(title='Detection Demo')\n",
    "writer = FFMpegWriter(fps=30, metadata=metadata)\n",
    "\n",
    "fig = plt.figure()\n",
    "imgh = plt.imshow(np.zeros((480, 640), dtype=np.uint8))\n",
    "ph, = plt.plot([], [], color=\"cyan\", linewidth=2)\n",
    "\n",
    "with writer.saving(fig, \"Detection Demo.mp4\", 100):\n",
    "    for rgb_im_file, depth_arr_file, depth_im_file in cut:\n",
    "        frame_idx = rgb_im_file.split(\"_\")[0]\n",
    "\n",
    "        rgb_im_path = os.path.join(folder, rgb_im_file)\n",
    "        rgb_img = cv2.imread(rgb_im_path, cv2.IMREAD_COLOR)\n",
    "        edge_pixels = np.load(os.path.join(folder, f\"{frame_idx}_edge_pts.npy\"))\n",
    "        \n",
    "        imgh.set_data(rgb_img)\n",
    "        ph.set_data(edge_pixels[:,1], edge_pixels[:,0])\n",
    "        \n",
    "        writer.grab_frame()"
   ]
  },
  {
   "cell_type": "code",
   "execution_count": null,
   "metadata": {},
   "outputs": [],
   "source": []
  }
 ],
 "metadata": {
  "kernelspec": {
   "display_name": "Python 3",
   "language": "python",
   "name": "python3"
  },
  "language_info": {
   "codemirror_mode": {
    "name": "ipython",
    "version": 3
   },
   "file_extension": ".py",
   "mimetype": "text/x-python",
   "name": "python",
   "nbconvert_exporter": "python",
   "pygments_lexer": "ipython3",
   "version": "3.7.9"
  },
  "toc": {
   "base_numbering": 1,
   "nav_menu": {},
   "number_sections": true,
   "sideBar": true,
   "skip_h1_title": false,
   "title_cell": "Table of Contents",
   "title_sidebar": "Contents",
   "toc_cell": false,
   "toc_position": {
    "height": "705px",
    "left": "94px",
    "top": "110px",
    "width": "266px"
   },
   "toc_section_display": true,
   "toc_window_display": true
  },
  "varInspector": {
   "cols": {
    "lenName": 16,
    "lenType": 16,
    "lenVar": 40
   },
   "kernels_config": {
    "python": {
     "delete_cmd_postfix": "",
     "delete_cmd_prefix": "del ",
     "library": "var_list.py",
     "varRefreshCmd": "print(var_dic_list())"
    },
    "r": {
     "delete_cmd_postfix": ") ",
     "delete_cmd_prefix": "rm(",
     "library": "var_list.r",
     "varRefreshCmd": "cat(var_dic_list()) "
    }
   },
   "position": {
    "height": "711px",
    "left": "1017px",
    "right": "20px",
    "top": "230px",
    "width": "750px"
   },
   "types_to_exclude": [
    "module",
    "function",
    "builtin_function_or_method",
    "instance",
    "_Feature"
   ],
   "window_display": false
  }
 },
 "nbformat": 4,
 "nbformat_minor": 4
}
