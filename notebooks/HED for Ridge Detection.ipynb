{
 "cells": [
  {
   "cell_type": "markdown",
   "metadata": {},
   "source": [
    "# Imports & Initialization"
   ]
  },
  {
   "cell_type": "code",
   "execution_count": 1,
   "metadata": {
    "ExecuteTime": {
     "end_time": "2021-02-01T18:16:45.538021Z",
     "start_time": "2021-02-01T18:16:45.534152Z"
    }
   },
   "outputs": [
    {
     "name": "stdout",
     "output_type": "stream",
     "text": [
      "Current directory: /home/cengerkin/Desktop/cv-in-farming\n"
     ]
    }
   ],
   "source": [
    "# Move to the root\n",
    "import os\n",
    "cwd = os.getcwd()\n",
    "if os.path.basename(cwd) != \"cv-in-farming\":\n",
    "    os.chdir(\"../\")\n",
    "print(\"Current directory:\", os.getcwd())"
   ]
  },
  {
   "cell_type": "code",
   "execution_count": 2,
   "metadata": {
    "ExecuteTime": {
     "end_time": "2021-02-01T18:16:47.021869Z",
     "start_time": "2021-02-01T18:16:46.140837Z"
    },
    "code_folding": []
   },
   "outputs": [],
   "source": [
    "import torch\n",
    "\n",
    "from src.dataloader import FurrowDataset\n",
    "from src.model import RidgeDetector\n",
    "from src.solver import Solver\n",
    "from utils.helpers import save_checkpoint, load_checkpoint\n",
    "\n",
    "optimizers = {\n",
    "    \"adam\": torch.optim.Adam,\n",
    "    \"sgd\": torch.optim.SGD,\n",
    "    #...\n",
    "}\n",
    "\n",
    "%matplotlib inline\n",
    "%load_ext autoreload\n",
    "%autoreload 2"
   ]
  },
  {
   "cell_type": "markdown",
   "metadata": {},
   "source": [
    "## Dataset & Dataloader"
   ]
  },
  {
   "cell_type": "code",
   "execution_count": 3,
   "metadata": {
    "ExecuteTime": {
     "end_time": "2021-02-01T18:16:48.380387Z",
     "start_time": "2021-02-01T18:16:48.317703Z"
    }
   },
   "outputs": [
    {
     "name": "stdout",
     "output_type": "stream",
     "text": [
      "Status of dataset:\n",
      "* Dataset path: dataset/20201112_140127\n",
      "* Number of frames: 101\n",
      "* Load depth arrays: True\n",
      "* Load edge coordinates: False\n",
      "* Load RGBs: False\n",
      "* Load depth RGB files: False\n",
      "* Load timestamps: False\n",
      "\n"
     ]
    }
   ],
   "source": [
    "data_args = {\n",
    "    \"data_path\": \"dataset/20201112_140127\",\n",
    "    \"load_darr\": True,\n",
    "    \"load_edge\": False,\n",
    "    \"load_rgb\": False,\n",
    "    \"load_drgb\": False,\n",
    "    \"load_time\": False,\n",
    "    \"start\": 0,\n",
    "    \"end\": 100,\n",
    "    \"max_frames\": np.inf,\n",
    "}\n",
    "\n",
    "dataset = FurrowDataset(data_args)\n",
    "print(dataset)"
   ]
  },
  {
   "cell_type": "markdown",
   "metadata": {},
   "source": [
    "## Model & Optimizer"
   ]
  },
  {
   "cell_type": "markdown",
   "metadata": {},
   "source": [
    "### Create New Model & Optimizer Instance"
   ]
  },
  {
   "cell_type": "code",
   "execution_count": 4,
   "metadata": {
    "ExecuteTime": {
     "end_time": "2021-02-01T18:16:59.799916Z",
     "start_time": "2021-02-01T18:16:58.940075Z"
    }
   },
   "outputs": [
    {
     "name": "stdout",
     "output_type": "stream",
     "text": [
      "RidgeDetector(\n",
      "  (stage1): Sequential(\n",
      "    (0): Conv2d(3, 64, kernel_size=(3, 3), stride=(1, 1), padding=(1, 1))\n",
      "    (1): ReLU(inplace=True)\n",
      "    (2): Conv2d(64, 64, kernel_size=(3, 3), stride=(1, 1), padding=(1, 1))\n",
      "    (3): ReLU(inplace=True)\n",
      "  )\n",
      "  (sideout1): Sequential(\n",
      "    (0): Conv2d(64, 1, kernel_size=(1, 1), stride=(1, 1))\n",
      "    (1): Upsample(scale_factor=1.0, mode=bilinear)\n",
      "  )\n",
      "  (stage2): Sequential(\n",
      "    (4): MaxPool2d(kernel_size=2, stride=2, padding=0, dilation=1, ceil_mode=False)\n",
      "    (5): Conv2d(64, 128, kernel_size=(3, 3), stride=(1, 1), padding=(1, 1))\n",
      "    (6): ReLU(inplace=True)\n",
      "    (7): Conv2d(128, 128, kernel_size=(3, 3), stride=(1, 1), padding=(1, 1))\n",
      "    (8): ReLU(inplace=True)\n",
      "  )\n",
      "  (sideout2): Sequential(\n",
      "    (0): Conv2d(128, 1, kernel_size=(1, 1), stride=(1, 1))\n",
      "    (1): Upsample(scale_factor=2.0, mode=bilinear)\n",
      "  )\n",
      "  (stage3): Sequential(\n",
      "    (9): MaxPool2d(kernel_size=2, stride=2, padding=0, dilation=1, ceil_mode=False)\n",
      "    (10): Conv2d(128, 256, kernel_size=(3, 3), stride=(1, 1), padding=(1, 1))\n",
      "    (11): ReLU(inplace=True)\n",
      "    (12): Conv2d(256, 256, kernel_size=(3, 3), stride=(1, 1), padding=(1, 1))\n",
      "    (13): ReLU(inplace=True)\n",
      "    (14): Conv2d(256, 256, kernel_size=(3, 3), stride=(1, 1), padding=(1, 1))\n",
      "    (15): ReLU(inplace=True)\n",
      "  )\n",
      "  (sideout3): Sequential(\n",
      "    (0): Conv2d(256, 1, kernel_size=(1, 1), stride=(1, 1))\n",
      "    (1): Upsample(scale_factor=4.0, mode=bilinear)\n",
      "  )\n",
      "  (stage4): Sequential(\n",
      "    (16): MaxPool2d(kernel_size=2, stride=2, padding=0, dilation=1, ceil_mode=False)\n",
      "    (17): Conv2d(256, 512, kernel_size=(3, 3), stride=(1, 1), padding=(1, 1))\n",
      "    (18): ReLU(inplace=True)\n",
      "    (19): Conv2d(512, 512, kernel_size=(3, 3), stride=(1, 1), padding=(1, 1))\n",
      "    (20): ReLU(inplace=True)\n",
      "    (21): Conv2d(512, 512, kernel_size=(3, 3), stride=(1, 1), padding=(1, 1))\n",
      "    (22): ReLU(inplace=True)\n",
      "  )\n",
      "  (sideout4): Sequential(\n",
      "    (0): Conv2d(512, 1, kernel_size=(1, 1), stride=(1, 1))\n",
      "    (1): Upsample(scale_factor=8.0, mode=bilinear)\n",
      "  )\n",
      "  (stage5): Sequential(\n",
      "    (23): MaxPool2d(kernel_size=2, stride=2, padding=0, dilation=1, ceil_mode=False)\n",
      "    (24): Conv2d(512, 512, kernel_size=(3, 3), stride=(1, 1), padding=(1, 1))\n",
      "    (25): ReLU(inplace=True)\n",
      "    (26): Conv2d(512, 512, kernel_size=(3, 3), stride=(1, 1), padding=(1, 1))\n",
      "    (27): ReLU(inplace=True)\n",
      "    (28): Conv2d(512, 512, kernel_size=(3, 3), stride=(1, 1), padding=(1, 1))\n",
      "    (29): ReLU(inplace=True)\n",
      "  )\n",
      "  (sideout5): Sequential(\n",
      "    (0): Conv2d(512, 1, kernel_size=(1, 1), stride=(1, 1))\n",
      "    (1): Upsample(scale_factor=16.0, mode=bilinear)\n",
      "  )\n",
      "  (fuse): Conv2d(5, 1, kernel_size=(1, 1), stride=(1, 1))\n",
      ")\n",
      "Adam (\n",
      "Parameter Group 0\n",
      "    amsgrad: False\n",
      "    betas: (0.9, 0.999)\n",
      "    eps: 1e-08\n",
      "    lr: 0.001\n",
      "    weight_decay: 0\n",
      ")\n"
     ]
    }
   ],
   "source": [
    "model_args = {\n",
    "    \"pretrained\": True,\n",
    "    \"fuse\": True,\n",
    "}\n",
    "\n",
    "optim_args = {\n",
    "    \"lr\": 0.001,\n",
    "    \"betas\": (0.9, 0.999),\n",
    "    \"eps\": 1e-08,\n",
    "    \"weight_decay\": 0,\n",
    "    \"amsgrad\": False,\n",
    "}\n",
    "\n",
    "model = RidgeDetector(model_args)\n",
    "optim = optimizers['adam'](filter(lambda p: p.requires_grad, model.parameters()), **optim_args)\n",
    "\n",
    "print(model)\n",
    "print(optim)"
   ]
  },
  {
   "cell_type": "markdown",
   "metadata": {},
   "source": [
    "### Load Stored Model & Optimizer"
   ]
  },
  {
   "cell_type": "code",
   "execution_count": null,
   "metadata": {},
   "outputs": [],
   "source": [
    "ckpt_path = \"\"\n",
    "last_epoch, last_loss, last_acc, model, optim = load_checkpoint(ckpt_path)"
   ]
  },
  {
   "cell_type": "markdown",
   "metadata": {},
   "source": [
    "## Solver"
   ]
  },
  {
   "cell_type": "code",
   "execution_count": null,
   "metadata": {},
   "outputs": [],
   "source": [
    "solver_args = {\n",
    "    \"log_path\": \"/home/cengerkin/Desktop/cv-in-farming/log\",\n",
    "}\n",
    "\n",
    "solver = Solver(solver_args)\n",
    "\n",
    "print(solver)"
   ]
  },
  {
   "cell_type": "markdown",
   "metadata": {
    "ExecuteTime": {
     "end_time": "2020-11-30T12:30:37.997825Z",
     "start_time": "2020-11-30T12:30:37.979214Z"
    }
   },
   "source": [
    "# Train"
   ]
  },
  {
   "cell_type": "code",
   "execution_count": null,
   "metadata": {
    "ExecuteTime": {
     "end_time": "2021-01-26T16:17:33.105508Z",
     "start_time": "2021-01-26T16:17:33.088387Z"
    }
   },
   "outputs": [],
   "source": [
    "train_args = {\n",
    "    \"ckpt_path\": \"/home/cengerkin/Desktop/cv-in-farming/checkpoint\",\n",
    "    \"max_epochs\": 1,\n",
    "    \"val_freq\": 0,\n",
    "    \"log_freq\": 0,\n",
    "    \"ckpt_freq\": 0,\n",
    "}\n",
    "\n",
    "# solver.train(...)"
   ]
  },
  {
   "cell_type": "code",
   "execution_count": null,
   "metadata": {},
   "outputs": [],
   "source": [
    "save_checkpoint(ckpt_path, epoch, model, optim, loss=None, acc=None)"
   ]
  },
  {
   "cell_type": "markdown",
   "metadata": {},
   "source": [
    "# Test"
   ]
  },
  {
   "cell_type": "code",
   "execution_count": null,
   "metadata": {
    "ExecuteTime": {
     "end_time": "2021-01-26T16:17:36.587456Z",
     "start_time": "2021-01-26T16:17:35.112913Z"
    },
    "scrolled": true
   },
   "outputs": [],
   "source": [
    "# solver.test(...)"
   ]
  },
  {
   "cell_type": "markdown",
   "metadata": {},
   "source": [
    "# Generate Video from Frames"
   ]
  },
  {
   "cell_type": "code",
   "execution_count": null,
   "metadata": {
    "ExecuteTime": {
     "end_time": "2021-01-21T19:30:22.486835Z",
     "start_time": "2021-01-21T19:30:11.920196Z"
    }
   },
   "outputs": [],
   "source": [
    "from matplotlib.animation import FFMpegWriter\n",
    "\n",
    "plt.rcParams['animation.ffmpeg_path'] = '/usr/bin/ffmpeg'\n",
    "\n",
    "folder = \"front(20201112_140127)\"\n",
    "fig = plt.figure()\n",
    "cut = folder_frame_map[folder][150:450]\n",
    "\n",
    "# Fixing random state for reproducibility\n",
    "metadata = dict(title='Detection Demo')\n",
    "writer = FFMpegWriter(fps=30, metadata=metadata)\n",
    "\n",
    "fig = plt.figure()\n",
    "imgh = plt.imshow(np.zeros((480, 640), dtype=np.uint8))\n",
    "ph, = plt.plot([], [], color=\"cyan\", linewidth=2)\n",
    "\n",
    "with writer.saving(fig, \"Detection Demo.mp4\", 100):\n",
    "    for rgb_im_file, depth_arr_file, depth_im_file in cut:\n",
    "        frame_idx = rgb_im_file.split(\"_\")[0]\n",
    "\n",
    "        rgb_im_path = os.path.join(folder, rgb_im_file)\n",
    "        rgb_img = cv2.imread(rgb_im_path, cv2.IMREAD_COLOR)\n",
    "        edge_pixels = np.load(os.path.join(folder, f\"{frame_idx}_edge_pts.npy\"))\n",
    "        \n",
    "        imgh.set_data(rgb_img)\n",
    "        ph.set_data(edge_pixels[:,1], edge_pixels[:,0])\n",
    "        \n",
    "        writer.grab_frame()"
   ]
  },
  {
   "cell_type": "code",
   "execution_count": null,
   "metadata": {},
   "outputs": [],
   "source": []
  }
 ],
 "metadata": {
  "kernelspec": {
   "display_name": "Python 3",
   "language": "python",
   "name": "python3"
  },
  "language_info": {
   "codemirror_mode": {
    "name": "ipython",
    "version": 3
   },
   "file_extension": ".py",
   "mimetype": "text/x-python",
   "name": "python",
   "nbconvert_exporter": "python",
   "pygments_lexer": "ipython3",
   "version": "3.7.9"
  },
  "toc": {
   "base_numbering": 1,
   "nav_menu": {},
   "number_sections": true,
   "sideBar": true,
   "skip_h1_title": false,
   "title_cell": "Table of Contents",
   "title_sidebar": "Contents",
   "toc_cell": false,
   "toc_position": {
    "height": "705px",
    "left": "94px",
    "top": "110px",
    "width": "266px"
   },
   "toc_section_display": true,
   "toc_window_display": true
  },
  "varInspector": {
   "cols": {
    "lenName": 16,
    "lenType": 16,
    "lenVar": 40
   },
   "kernels_config": {
    "python": {
     "delete_cmd_postfix": "",
     "delete_cmd_prefix": "del ",
     "library": "var_list.py",
     "varRefreshCmd": "print(var_dic_list())"
    },
    "r": {
     "delete_cmd_postfix": ") ",
     "delete_cmd_prefix": "rm(",
     "library": "var_list.r",
     "varRefreshCmd": "cat(var_dic_list()) "
    }
   },
   "position": {
    "height": "711px",
    "left": "1017px",
    "right": "20px",
    "top": "230px",
    "width": "750px"
   },
   "types_to_exclude": [
    "module",
    "function",
    "builtin_function_or_method",
    "instance",
    "_Feature"
   ],
   "window_display": false
  }
 },
 "nbformat": 4,
 "nbformat_minor": 4
}
