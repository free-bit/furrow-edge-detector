{
 "cells": [
  {
   "cell_type": "markdown",
   "metadata": {},
   "source": [
    "# Imports"
   ]
  },
  {
   "cell_type": "code",
   "execution_count": null,
   "metadata": {
    "ExecuteTime": {
     "end_time": "2021-04-17T18:16:22.418500Z",
     "start_time": "2021-04-17T18:16:22.414711Z"
    }
   },
   "outputs": [],
   "source": [
    "# Move to the root\n",
    "import os\n",
    "cwd = os.getcwd()\n",
    "if os.path.basename(cwd) != \"cv-in-farming\":\n",
    "    os.chdir(\"../\")\n",
    "print(os.getcwd())"
   ]
  },
  {
   "cell_type": "code",
   "execution_count": null,
   "metadata": {
    "ExecuteTime": {
     "end_time": "2021-04-17T18:16:23.488344Z",
     "start_time": "2021-04-17T18:16:22.561740Z"
    }
   },
   "outputs": [],
   "source": [
    "import numpy as np\n",
    "import matplotlib.pyplot as plt\n",
    "from PIL import Image\n",
    "\n",
    "from src.image_processing import apply_template_matching\n",
    "from src.dataloader import FurrowDataset\n",
    "from utils.helpers import create_template, shift_pixels, generate_lane_pixels, overlay_coord, show_image\n",
    "\n",
    "%matplotlib inline\n",
    "%load_ext autoreload\n",
    "%autoreload 2"
   ]
  },
  {
   "cell_type": "markdown",
   "metadata": {},
   "source": [
    "# Definitions"
   ]
  },
  {
   "cell_type": "code",
   "execution_count": null,
   "metadata": {
    "ExecuteTime": {
     "end_time": "2021-04-17T18:16:23.623570Z",
     "start_time": "2021-04-17T18:16:23.611230Z"
    }
   },
   "outputs": [],
   "source": [
    "class Intrinsics:\n",
    "    def __init__(self, fx, fy, ppx, ppy, distortion, coeff):\n",
    "        self.fx = fx\n",
    "        self.fy = fy\n",
    "        self.ppx = ppx\n",
    "        self.ppy = ppy\n",
    "        self.distortion = distortion\n",
    "        self.coeff = coeff\n",
    "\n",
    "intrinsics = Intrinsics(fx=618.75439453125, \n",
    "                        fy=616.88916015625,\n",
    "                        ppx=324.08642578125,\n",
    "                        ppy=241.37208557128906,\n",
    "                        distortion=\"inverse_brown_conrady\",\n",
    "                        coeff=[0.0, 0.0, 0.0, 0.0, 0.0])"
   ]
  },
  {
   "cell_type": "markdown",
   "metadata": {},
   "source": [
    "# Read Frames"
   ]
  },
  {
   "cell_type": "code",
   "execution_count": null,
   "metadata": {
    "ExecuteTime": {
     "end_time": "2021-04-17T18:16:26.214738Z",
     "start_time": "2021-04-17T18:16:26.136106Z"
    }
   },
   "outputs": [],
   "source": [
    "normalize = True\n",
    "input_format = 'rgb'\n",
    "\n",
    "dataset_args = {\n",
    "    \"data_path\": \"dataset/val/20210309_124809\",\n",
    "    \"crop_down\": False,\n",
    "    \"normalize\": normalize,\n",
    "    \"input_format\": input_format,\n",
    "    \"load_edge\": False,\n",
    "    \"edge_width\": 3,\n",
    "    \"load_time\": False,\n",
    "    \"max_frames\": 1000\n",
    "}\n",
    "\n",
    "folder = FurrowDataset(dataset_args)\n",
    "print(folder)"
   ]
  },
  {
   "cell_type": "markdown",
   "metadata": {},
   "source": [
    "# Get Edge Pixels"
   ]
  },
  {
   "cell_type": "code",
   "execution_count": null,
   "metadata": {
    "ExecuteTime": {
     "end_time": "2021-04-17T18:16:31.818869Z",
     "start_time": "2021-04-17T18:16:31.802391Z"
    }
   },
   "outputs": [],
   "source": [
    "i = 500"
   ]
  },
  {
   "cell_type": "markdown",
   "metadata": {},
   "source": [
    "## Compute Pixel Coordinates"
   ]
  },
  {
   "cell_type": "code",
   "execution_count": null,
   "metadata": {
    "ExecuteTime": {
     "end_time": "2021-04-17T18:16:39.317060Z",
     "start_time": "2021-04-17T18:16:38.917386Z"
    },
    "scrolled": false
   },
   "outputs": [],
   "source": [
    "item = folder.get_frame_files(i,\n",
    "                              load_darr=True,\n",
    "                              load_rgb=True,\n",
    "                              load_drgb=False,\n",
    "                              load_edge=False,\n",
    "                              load_time=False)\n",
    "rgb_img = np.array(item['rgb_img'])\n",
    "depth_arr = item['depth_arr']\n",
    "template = create_template(size=30, position=1)\n",
    "pixels, corners, outliers = apply_template_matching(depth_arr.astype(np.float32), \n",
    "                                                    template,\n",
    "                                                    y_step=25,\n",
    "                                                    n_contours=200,\n",
    "                                                    fit_type=\"curve\",\n",
    "                                                    verbose=1)\n",
    "\n",
    "plt.figure(figsize=(10,10))\n",
    "plt.imshow(rgb_img)\n",
    "plt.scatter(corners[:,1], corners[:,0], color=\"black\", marker=\"o\")\n",
    "plt.scatter(outliers[:,1], outliers[:,0], color=\"purple\", marker=\"^\")\n",
    "plt.show()"
   ]
  },
  {
   "cell_type": "markdown",
   "metadata": {},
   "source": [
    "## Load Precomputed Pixel Coordinates"
   ]
  },
  {
   "cell_type": "code",
   "execution_count": null,
   "metadata": {
    "ExecuteTime": {
     "end_time": "2021-04-17T18:16:33.760274Z",
     "start_time": "2021-04-17T18:16:33.705909Z"
    }
   },
   "outputs": [],
   "source": [
    "item = folder.get_frame_files(i,\n",
    "                              load_darr=True,\n",
    "                              load_rgb=True,\n",
    "                              load_drgb=False,\n",
    "                              load_edge=True,\n",
    "                              load_time=False)\n",
    "rgb_img = np.array(item[\"rgb_img\"])\n",
    "depth_arr = item[\"depth_arr\"]\n",
    "pixels = item[\"edge_pixels\"]"
   ]
  },
  {
   "cell_type": "code",
   "execution_count": null,
   "metadata": {
    "ExecuteTime": {
     "end_time": "2021-04-17T18:16:33.922105Z",
     "start_time": "2021-04-17T18:16:33.906659Z"
    }
   },
   "outputs": [],
   "source": [
    "print(item[\"frame_id\"])"
   ]
  },
  {
   "cell_type": "markdown",
   "metadata": {},
   "source": [
    "# Shift Detection"
   ]
  },
  {
   "cell_type": "code",
   "execution_count": null,
   "metadata": {
    "ExecuteTime": {
     "end_time": "2021-04-17T18:16:46.388169Z",
     "start_time": "2021-04-17T18:16:46.372489Z"
    }
   },
   "outputs": [],
   "source": [
    "# Take a copy of pixel coordinate of corners shifted with shift3D vector\n",
    "shifted2D = shift_pixels(depth_arr, pixels, intrinsics, shift3D=(-0.53,0,0))\n",
    "\n",
    "# Generate lanes\n",
    "lanes = generate_lane_pixels(shifted2D, pixels, num_lane=15)"
   ]
  },
  {
   "cell_type": "code",
   "execution_count": null,
   "metadata": {
    "ExecuteTime": {
     "end_time": "2021-04-17T18:16:46.893483Z",
     "start_time": "2021-04-17T18:16:46.725411Z"
    }
   },
   "outputs": [],
   "source": [
    "# Visualize in 2D\n",
    "overlaid = overlay_coord(rgb_img, shifted2D, thickness=2, color='springgreen')\n",
    "for lane_coords in lanes:\n",
    "    overlaid = overlay_coord(overlaid, lane_coords, thickness=2, color='springgreen')\n",
    "overlaid = overlay_coord(overlaid, pixels, thickness=2, color='springgreen')\n",
    "show_image(overlaid, cmap='gray', ticks=False)"
   ]
  },
  {
   "cell_type": "markdown",
   "metadata": {},
   "source": [
    "# Extra: Projection/Backprojection"
   ]
  },
  {
   "cell_type": "code",
   "execution_count": null,
   "metadata": {
    "ExecuteTime": {
     "end_time": "2021-04-17T18:14:42.093755Z",
     "start_time": "2021-04-17T18:14:42.064417Z"
    }
   },
   "outputs": [],
   "source": [
    "from utils.helpers import project, backproject\n",
    "\n",
    "x = np.arange(640)\n",
    "y = np.arange(480)\n",
    "x, y = np.meshgrid(x, y)\n",
    "coords = np.c_[y.ravel(), x.ravel()]\n",
    "P = backproject(depth_arr, coords, intrinsics)\n",
    "coords2 = project(P, intrinsics)\n",
    "print(coords)\n",
    "print(coords2)"
   ]
  }
 ],
 "metadata": {
  "kernelspec": {
   "display_name": "Python 3",
   "language": "python",
   "name": "python3"
  },
  "language_info": {
   "codemirror_mode": {
    "name": "ipython",
    "version": 3
   },
   "file_extension": ".py",
   "mimetype": "text/x-python",
   "name": "python",
   "nbconvert_exporter": "python",
   "pygments_lexer": "ipython3",
   "version": "3.7.9"
  },
  "toc": {
   "base_numbering": 1,
   "nav_menu": {},
   "number_sections": true,
   "sideBar": true,
   "skip_h1_title": false,
   "title_cell": "Table of Contents",
   "title_sidebar": "Contents",
   "toc_cell": false,
   "toc_position": {
    "height": "calc(100% - 180px)",
    "left": "10px",
    "top": "150px",
    "width": "384px"
   },
   "toc_section_display": true,
   "toc_window_display": true
  },
  "varInspector": {
   "cols": {
    "lenName": 16,
    "lenType": 16,
    "lenVar": 40
   },
   "kernels_config": {
    "python": {
     "delete_cmd_postfix": "",
     "delete_cmd_prefix": "del ",
     "library": "var_list.py",
     "varRefreshCmd": "print(var_dic_list())"
    },
    "r": {
     "delete_cmd_postfix": ") ",
     "delete_cmd_prefix": "rm(",
     "library": "var_list.r",
     "varRefreshCmd": "cat(var_dic_list()) "
    }
   },
   "types_to_exclude": [
    "module",
    "function",
    "builtin_function_or_method",
    "instance",
    "_Feature"
   ],
   "window_display": false
  }
 },
 "nbformat": 4,
 "nbformat_minor": 4
}
