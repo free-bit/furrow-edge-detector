{
 "cells": [
  {
   "cell_type": "markdown",
   "metadata": {},
   "source": [
    "# Imports"
   ]
  },
  {
   "cell_type": "code",
   "execution_count": null,
   "metadata": {
    "ExecuteTime": {
     "end_time": "2021-04-20T14:05:23.093493Z",
     "start_time": "2021-04-20T14:05:23.089574Z"
    }
   },
   "outputs": [],
   "source": [
    "# Move to the root\n",
    "import os\n",
    "cwd = os.getcwd()\n",
    "if os.path.basename(cwd) != \"cv-in-farming\":\n",
    "    os.chdir(\"../\")\n",
    "print(os.getcwd())"
   ]
  },
  {
   "cell_type": "code",
   "execution_count": null,
   "metadata": {
    "ExecuteTime": {
     "end_time": "2021-04-20T14:05:24.072192Z",
     "start_time": "2021-04-20T14:05:23.239521Z"
    }
   },
   "outputs": [],
   "source": [
    "import numpy as np\n",
    "import matplotlib.pyplot as plt\n",
    "from PIL import Image\n",
    "\n",
    "from src.image_processing import apply_template_matching\n",
    "from src.dataloader import FurrowDataset\n",
    "from utils.helpers import create_template, generate_edge, generate_lane_pixels, overlay_coord, show_image\n",
    "\n",
    "%matplotlib inline\n",
    "%load_ext autoreload\n",
    "%autoreload 2"
   ]
  },
  {
   "cell_type": "markdown",
   "metadata": {},
   "source": [
    "# Definitions"
   ]
  },
  {
   "cell_type": "code",
   "execution_count": null,
   "metadata": {
    "ExecuteTime": {
     "end_time": "2021-04-20T14:05:24.108366Z",
     "start_time": "2021-04-20T14:05:24.094504Z"
    }
   },
   "outputs": [],
   "source": [
    "class Intrinsics:\n",
    "    def __init__(self, fx, fy, ppx, ppy, distortion, coeff):\n",
    "        self.fx = fx\n",
    "        self.fy = fy\n",
    "        self.ppx = ppx\n",
    "        self.ppy = ppy\n",
    "        self.distortion = distortion\n",
    "        self.coeff = coeff\n",
    "\n",
    "intrinsics = Intrinsics(fx=618.75439453125, \n",
    "                        fy=616.88916015625,\n",
    "                        ppx=324.08642578125,\n",
    "                        ppy=241.37208557128906,\n",
    "                        distortion=\"inverse_brown_conrady\",\n",
    "                        coeff=[0.0, 0.0, 0.0, 0.0, 0.0])"
   ]
  },
  {
   "cell_type": "markdown",
   "metadata": {},
   "source": [
    "# Read Frames"
   ]
  },
  {
   "cell_type": "code",
   "execution_count": null,
   "metadata": {
    "ExecuteTime": {
     "end_time": "2021-04-20T14:05:24.474089Z",
     "start_time": "2021-04-20T14:05:24.394364Z"
    }
   },
   "outputs": [],
   "source": [
    "normalize = False\n",
    "input_format = 'rgb'\n",
    "\n",
    "# Input: Give the path to data.\n",
    "input_path = \"dataset/val/20210309_124809\"\n",
    "\n",
    "dataset_args = {\n",
    "    \"data_path\": input_path,\n",
    "    \"normalize\": normalize,\n",
    "    \"input_format\": input_format,\n",
    "    \"edge_width\": 3,\n",
    "    \"load_time\": False,\n",
    "    \"max_frames\": 1000\n",
    "}\n",
    "\n",
    "folder = FurrowDataset(dataset_args)\n",
    "print(folder)"
   ]
  },
  {
   "cell_type": "markdown",
   "metadata": {},
   "source": [
    "# Get Edge Pixels\n",
    "\n",
    "* Two options:\n",
    "  \n",
    "  4.1 Compute from scratch\n",
    "    \n",
    "  4.2 Load from file"
   ]
  },
  {
   "cell_type": "code",
   "execution_count": null,
   "metadata": {
    "ExecuteTime": {
     "end_time": "2021-04-20T14:05:28.735374Z",
     "start_time": "2021-04-20T14:05:28.719211Z"
    }
   },
   "outputs": [],
   "source": [
    "i = 500"
   ]
  },
  {
   "cell_type": "markdown",
   "metadata": {},
   "source": [
    "## Compute Pixel Coordinates for Edge"
   ]
  },
  {
   "cell_type": "code",
   "execution_count": null,
   "metadata": {
    "ExecuteTime": {
     "end_time": "2021-04-20T14:05:29.815965Z",
     "start_time": "2021-04-20T14:05:29.362693Z"
    },
    "scrolled": false
   },
   "outputs": [],
   "source": [
    "item = folder.get_frame_files(i,\n",
    "                              load_darr=True,\n",
    "                              load_rgb=True,\n",
    "                              load_drgb=False,\n",
    "                              load_edge=False,\n",
    "                              load_time=False)\n",
    "rgb_img = np.array(item['rgb_img'])\n",
    "depth_arr = item['depth_arr']\n",
    "template = create_template(size=30, position=1)\n",
    "edge1, corners, outliers = apply_template_matching(depth_arr.astype(np.float32), \n",
    "                                                   template,\n",
    "                                                   y_step=25,\n",
    "                                                   n_contours=200,\n",
    "                                                   fit_type=\"curve\",\n",
    "                                                   verbose=1)\n",
    "\n",
    "plt.figure(figsize=(10,10))\n",
    "plt.imshow(rgb_img)\n",
    "plt.scatter(corners[:,1], corners[:,0], color=\"black\", marker=\"o\")\n",
    "plt.scatter(outliers[:,1], outliers[:,0], color=\"purple\", marker=\"^\")\n",
    "plt.show()"
   ]
  },
  {
   "cell_type": "markdown",
   "metadata": {},
   "source": [
    "## Load Precomputed Pixel Coordinates"
   ]
  },
  {
   "cell_type": "code",
   "execution_count": null,
   "metadata": {
    "ExecuteTime": {
     "end_time": "2021-04-20T14:02:25.282026Z",
     "start_time": "2021-04-20T14:02:25.252891Z"
    }
   },
   "outputs": [],
   "source": [
    "item = folder.get_frame_files(i,\n",
    "                              load_darr=True,\n",
    "                              load_rgb=True,\n",
    "                              load_drgb=False,\n",
    "                              load_edge=True,\n",
    "                              load_time=False)\n",
    "rgb_img = np.array(item[\"rgb_img\"])\n",
    "depth_arr = item[\"depth_arr\"]\n",
    "edge1 = item[\"edge_pixels\"]"
   ]
  },
  {
   "cell_type": "markdown",
   "metadata": {},
   "source": [
    "# Compute Artificial Edge and Lane Lines Based on Detected Edge"
   ]
  },
  {
   "cell_type": "code",
   "execution_count": null,
   "metadata": {
    "ExecuteTime": {
     "end_time": "2021-04-20T14:05:34.622303Z",
     "start_time": "2021-04-20T14:05:34.606964Z"
    }
   },
   "outputs": [],
   "source": [
    "print(\"Frame ID:\", item[\"frame_id\"])"
   ]
  },
  {
   "cell_type": "code",
   "execution_count": null,
   "metadata": {
    "ExecuteTime": {
     "end_time": "2021-04-20T14:05:34.963041Z",
     "start_time": "2021-04-20T14:05:34.947146Z"
    }
   },
   "outputs": [],
   "source": [
    "# Compute pixels coordinates for the 2nd edge which is 530mm (wheel width) to the left of the first edge.\n",
    "edge2 = generate_edge(depth_arr, edge1, intrinsics, shift3D=(-0.53,0,0))\n",
    "\n",
    "# Generate lanes between two edges\n",
    "lanes = generate_lane_pixels(edge2, edge1, top_offset=0, bot_offset=0, num_lane=15)"
   ]
  },
  {
   "cell_type": "code",
   "execution_count": null,
   "metadata": {
    "ExecuteTime": {
     "end_time": "2021-04-20T14:05:35.747968Z",
     "start_time": "2021-04-20T14:05:35.585792Z"
    }
   },
   "outputs": [],
   "source": [
    "# Visualize in 2D\n",
    "overlaid = overlay_coord(rgb_img, edge2, thickness=2, color='springgreen')\n",
    "for lane_coords in lanes:\n",
    "    overlaid = overlay_coord(overlaid, lane_coords, thickness=2, color='springgreen')\n",
    "overlaid = overlay_coord(overlaid, edge1, thickness=2, color='springgreen')\n",
    "show_image(overlaid, cmap='gray', ticks=False)"
   ]
  },
  {
   "cell_type": "markdown",
   "metadata": {},
   "source": [
    "# Extra: Projection/Backprojection"
   ]
  },
  {
   "cell_type": "code",
   "execution_count": null,
   "metadata": {
    "ExecuteTime": {
     "end_time": "2021-04-17T18:14:42.093755Z",
     "start_time": "2021-04-17T18:14:42.064417Z"
    }
   },
   "outputs": [],
   "source": [
    "from utils.helpers import project, backproject\n",
    "\n",
    "x = np.arange(640)\n",
    "y = np.arange(480)\n",
    "x, y = np.meshgrid(x, y)\n",
    "coords = np.c_[y.ravel(), x.ravel()]\n",
    "P = backproject(depth_arr, coords, intrinsics)\n",
    "coords2 = project(P, intrinsics)\n",
    "print(coords)\n",
    "print(coords2)"
   ]
  }
 ],
 "metadata": {
  "kernelspec": {
   "display_name": "Python 3",
   "language": "python",
   "name": "python3"
  },
  "language_info": {
   "codemirror_mode": {
    "name": "ipython",
    "version": 3
   },
   "file_extension": ".py",
   "mimetype": "text/x-python",
   "name": "python",
   "nbconvert_exporter": "python",
   "pygments_lexer": "ipython3",
   "version": "3.7.9"
  },
  "toc": {
   "base_numbering": 1,
   "nav_menu": {},
   "number_sections": true,
   "sideBar": true,
   "skip_h1_title": false,
   "title_cell": "Table of Contents",
   "title_sidebar": "Contents",
   "toc_cell": false,
   "toc_position": {
    "height": "calc(100% - 180px)",
    "left": "10px",
    "top": "150px",
    "width": "384px"
   },
   "toc_section_display": true,
   "toc_window_display": true
  },
  "varInspector": {
   "cols": {
    "lenName": 16,
    "lenType": 16,
    "lenVar": 40
   },
   "kernels_config": {
    "python": {
     "delete_cmd_postfix": "",
     "delete_cmd_prefix": "del ",
     "library": "var_list.py",
     "varRefreshCmd": "print(var_dic_list())"
    },
    "r": {
     "delete_cmd_postfix": ") ",
     "delete_cmd_prefix": "rm(",
     "library": "var_list.r",
     "varRefreshCmd": "cat(var_dic_list()) "
    }
   },
   "types_to_exclude": [
    "module",
    "function",
    "builtin_function_or_method",
    "instance",
    "_Feature"
   ],
   "window_display": false
  }
 },
 "nbformat": 4,
 "nbformat_minor": 4
}
