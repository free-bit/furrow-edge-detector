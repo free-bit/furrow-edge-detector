{
 "cells": [
  {
   "cell_type": "markdown",
   "metadata": {},
   "source": [
    "# Imports & Initialization"
   ]
  },
  {
   "cell_type": "code",
   "execution_count": null,
   "metadata": {
    "ExecuteTime": {
     "end_time": "2021-04-17T18:31:29.880739Z",
     "start_time": "2021-04-17T18:31:29.876671Z"
    }
   },
   "outputs": [],
   "source": [
    "# Move to the root\n",
    "import os\n",
    "cwd = os.getcwd()\n",
    "if os.path.basename(cwd) != \"cv-in-farming\":\n",
    "    os.chdir(\"../\")\n",
    "print(\"Current directory:\", os.getcwd())"
   ]
  },
  {
   "cell_type": "code",
   "execution_count": null,
   "metadata": {
    "ExecuteTime": {
     "end_time": "2021-04-17T18:31:51.666883Z",
     "start_time": "2021-04-17T18:31:51.649914Z"
    },
    "code_folding": []
   },
   "outputs": [],
   "source": [
    "from src.dataloader import FurrowDataset\n",
    "from utils.augment_frames import apply_random_augment, store_item\n",
    "from utils.helpers import coord_to_mask, show_image, overlay_coord\n",
    "\n",
    "%matplotlib inline\n",
    "%load_ext autoreload\n",
    "%autoreload 2"
   ]
  },
  {
   "cell_type": "code",
   "execution_count": null,
   "metadata": {
    "ExecuteTime": {
     "end_time": "2021-04-17T18:31:53.560178Z",
     "start_time": "2021-04-17T18:31:53.540036Z"
    }
   },
   "outputs": [],
   "source": [
    "def visualize_item(item):\n",
    "    shape = (480, 640)\n",
    "    if \"depth_arr\" in item:\n",
    "        depth_arr = np.array(item['depth_arr'])\n",
    "        depth_arr = np.rint(255 * (depth_arr / depth_arr.max()))\n",
    "        depth_arr = np.clip(depth_arr * 5, a_min=0, a_max=255).astype(np.uint8)\n",
    "        show_image(np.array(depth_arr), cmap=\"gray\")\n",
    "        print(f\"Depth array shape: {depth_arr.shape}\")\n",
    "\n",
    "    if \"edge_pixels\" in item:\n",
    "        edge_pixels = item['edge_pixels']\n",
    "        edge_mask = coord_to_mask(shape, edge_pixels, thickness=1)\n",
    "        show_image(edge_mask, cmap=\"gray\")\n",
    "\n",
    "    if \"rgb_img\" in item:\n",
    "        rgb_img = item['rgb_img']\n",
    "        show_image(rgb_img)\n",
    "\n",
    "    if \"rgb_img\" in item and \"edge_pixels\" in item:\n",
    "        rgb_img = np.array(item['rgb_img'])\n",
    "        edge_pixels = item['edge_pixels']\n",
    "        overlaid = overlay_coord(rgb_img, edge_pixels, thickness=1)\n",
    "        show_image(overlaid)"
   ]
  },
  {
   "cell_type": "markdown",
   "metadata": {},
   "source": [
    "# Load Dataset"
   ]
  },
  {
   "cell_type": "code",
   "execution_count": null,
   "metadata": {
    "ExecuteTime": {
     "end_time": "2021-04-17T18:32:09.987856Z",
     "start_time": "2021-04-17T18:32:09.925671Z"
    }
   },
   "outputs": [],
   "source": [
    "dataset_args = {\n",
    "  \"data_path\": \"./dataset/train/20201112_140726\",\n",
    "  \"load_edge\": True,\n",
    "  \"load_time\": False,\n",
    "}\n",
    "# Replace output_path below:\n",
    "output_path = \"./dataset/train/20201112_140726_aug\"\n",
    "dataset = FurrowDataset(dataset_args)\n",
    "print(dataset)"
   ]
  },
  {
   "cell_type": "markdown",
   "metadata": {},
   "source": [
    "## Inspect Dataset (Optional)"
   ]
  },
  {
   "cell_type": "code",
   "execution_count": null,
   "metadata": {
    "ExecuteTime": {
     "end_time": "2021-04-17T17:59:35.467823Z",
     "start_time": "2021-04-17T17:59:35.311597Z"
    }
   },
   "outputs": [],
   "source": [
    "from pprint import pprint\n",
    "frame_ids = dataset.frame_ids\n",
    "pprint(frame_ids)"
   ]
  },
  {
   "cell_type": "markdown",
   "metadata": {},
   "source": [
    "# Augment Data"
   ]
  },
  {
   "cell_type": "markdown",
   "metadata": {},
   "source": [
    "## Augment Multiple Samples"
   ]
  },
  {
   "cell_type": "code",
   "execution_count": null,
   "metadata": {
    "ExecuteTime": {
     "end_time": "2021-03-18T10:36:45.317655Z",
     "start_time": "2021-03-18T10:36:45.172514Z"
    },
    "scrolled": true
   },
   "outputs": [],
   "source": [
    "load_darr = True\n",
    "load_rgb = True\n",
    "load_drgb = True\n",
    "load_edge = True\n",
    "load_time = False\n",
    "\n",
    "items = list(range(len(dataset)))\n",
    "for i in items:\n",
    "    item = dataset.get_frame_files(i, \n",
    "                                   load_darr=load_darr,\n",
    "                                   load_rgb=load_rgb,\n",
    "                                   load_drgb=load_drgb,\n",
    "                                   load_edge=load_edge,\n",
    "                                   load_time=load_time)\n",
    "    modified = apply_random_augment(item)\n",
    "    store_item(modified, output_path)"
   ]
  },
  {
   "cell_type": "markdown",
   "metadata": {},
   "source": [
    "## Augment A Random Sample"
   ]
  },
  {
   "cell_type": "code",
   "execution_count": null,
   "metadata": {
    "ExecuteTime": {
     "end_time": "2021-04-17T18:32:15.842489Z",
     "start_time": "2021-04-17T18:32:15.607260Z"
    },
    "scrolled": false
   },
   "outputs": [],
   "source": [
    "rand_idx = np.random.randint(0, len(dataset))\n",
    "load_darr = True\n",
    "load_rgb = True\n",
    "load_drgb = True\n",
    "load_edge = True\n",
    "load_time = False\n",
    "item = dataset.get_frame_files(rand_idx, \n",
    "                               load_darr=load_darr, \n",
    "                               load_rgb=load_rgb, \n",
    "                               load_drgb=load_drgb, \n",
    "                               load_edge=load_edge, \n",
    "                               load_time=load_time)\n",
    "frame_id = item['frame_id']\n",
    "\n",
    "print(f\"Random Index: {rand_idx} <-> Frame ID: {frame_id}\")"
   ]
  },
  {
   "cell_type": "code",
   "execution_count": null,
   "metadata": {
    "ExecuteTime": {
     "end_time": "2021-04-17T18:32:16.771554Z",
     "start_time": "2021-04-17T18:32:15.976858Z"
    },
    "scrolled": false
   },
   "outputs": [],
   "source": [
    "modified = apply_random_augment(item)\n",
    "# store_item(modified, output_path)"
   ]
  },
  {
   "cell_type": "code",
   "execution_count": null,
   "metadata": {
    "ExecuteTime": {
     "end_time": "2021-04-17T18:32:18.794319Z",
     "start_time": "2021-04-17T18:32:17.642414Z"
    },
    "scrolled": false
   },
   "outputs": [],
   "source": [
    "visualize_item(item)\n",
    "visualize_item(modified)"
   ]
  },
  {
   "cell_type": "code",
   "execution_count": null,
   "metadata": {},
   "outputs": [],
   "source": []
  }
 ],
 "metadata": {
  "kernelspec": {
   "display_name": "Python 3",
   "language": "python",
   "name": "python3"
  },
  "language_info": {
   "codemirror_mode": {
    "name": "ipython",
    "version": 3
   },
   "file_extension": ".py",
   "mimetype": "text/x-python",
   "name": "python",
   "nbconvert_exporter": "python",
   "pygments_lexer": "ipython3",
   "version": "3.7.9"
  },
  "toc": {
   "base_numbering": 1,
   "nav_menu": {},
   "number_sections": true,
   "sideBar": true,
   "skip_h1_title": false,
   "title_cell": "Table of Contents",
   "title_sidebar": "Contents",
   "toc_cell": false,
   "toc_position": {
    "height": "705px",
    "left": "94px",
    "top": "110px",
    "width": "266px"
   },
   "toc_section_display": true,
   "toc_window_display": true
  },
  "varInspector": {
   "cols": {
    "lenName": 16,
    "lenType": 16,
    "lenVar": 40
   },
   "kernels_config": {
    "python": {
     "delete_cmd_postfix": "",
     "delete_cmd_prefix": "del ",
     "library": "var_list.py",
     "varRefreshCmd": "print(var_dic_list())"
    },
    "r": {
     "delete_cmd_postfix": ") ",
     "delete_cmd_prefix": "rm(",
     "library": "var_list.r",
     "varRefreshCmd": "cat(var_dic_list()) "
    }
   },
   "position": {
    "height": "711px",
    "left": "1017px",
    "right": "20px",
    "top": "230px",
    "width": "750px"
   },
   "types_to_exclude": [
    "module",
    "function",
    "builtin_function_or_method",
    "instance",
    "_Feature"
   ],
   "window_display": false
  }
 },
 "nbformat": 4,
 "nbformat_minor": 4
}
