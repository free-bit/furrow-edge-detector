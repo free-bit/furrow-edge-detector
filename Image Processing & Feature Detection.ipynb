{
 "cells": [
  {
   "cell_type": "code",
   "execution_count": null,
   "metadata": {
    "ExecuteTime": {
     "end_time": "2020-12-01T18:13:23.055201Z",
     "start_time": "2020-12-01T18:13:22.521482Z"
    }
   },
   "outputs": [],
   "source": [
    "import json\n",
    "import random\n",
    "import os\n",
    "\n",
    "import cv2\n",
    "import cyvlfeat\n",
    "from matplotlib import pyplot as plt\n",
    "import numpy as np\n",
    "from pprint import pprint\n",
    "from skimage.draw import line_nd\n",
    "import torch\n",
    "import torchvision\n",
    "\n",
    "from ipywidgets import *\n",
    "from IPython.display import display\n",
    "\n",
    "device = \"cpu\"\n",
    "\n",
    "%matplotlib inline"
   ]
  },
  {
   "cell_type": "markdown",
   "metadata": {},
   "source": [
    "# Function Definitions"
   ]
  },
  {
   "cell_type": "markdown",
   "metadata": {},
   "source": [
    "## Helper Functions "
   ]
  },
  {
   "cell_type": "code",
   "execution_count": null,
   "metadata": {
    "ExecuteTime": {
     "end_time": "2020-12-01T18:13:24.060321Z",
     "start_time": "2020-12-01T18:13:24.008789Z"
    }
   },
   "outputs": [],
   "source": [
    "def save_config(filename, config, selected):\n",
    "    if not filename.endswith(\".json\"):\n",
    "        filename += \".json\"\n",
    "        \n",
    "    filtered_config = {k: config[k] for k in selected}\n",
    "    \n",
    "    with open(filename, \"w\") as file:\n",
    "        json.dump(filtered_config, file, indent=4)\n",
    "        \n",
    "    print(filename, \"is created.\")\n",
    "    \n",
    "def load_config(json_content, config, config_ui):\n",
    "    print(\"Previous State:\")\n",
    "    pprint(config)\n",
    "    \n",
    "    config.update(json.loads(json_content))\n",
    "    update_ui_with_state(config, config_ui)\n",
    "    print(\"Update Configuration and UI state:\")\n",
    "    pprint(config)\n",
    "    \n",
    "def update_state_with_ui(config, config_ui, selected):\n",
    "    for k in selected:\n",
    "        if config_ui[k]:\n",
    "            config[k] = config_ui[k].result\n",
    "\n",
    "def update_ui_with_state(config, config_ui):\n",
    "    # For each function, get UI element bound to it\n",
    "    for k, v in config_ui.items():\n",
    "        # If there is a UI element bound\n",
    "        if v is not None:\n",
    "            # Get sub UI elements\n",
    "            for c in v.children[:-1]:\n",
    "                p = c.description    # Fetch parameter name\n",
    "                value = config[k][p] # Fetch respective function configuration and update UI\n",
    "                if p == \"ksize\" and isinstance(value, (tuple,list)): # Due to the possible mismatch between internal config state and cv2 parameter convention\n",
    "                    value = value[0]\n",
    "                c.value = value\n",
    "                \n",
    "def compute_line_pixels(shape, rho, theta):\n",
    "    # Compute intercepts for upper and lower edges, compute pixels of the line passing through them\n",
    "    upper = 0\n",
    "    lower = shape[0] - 1\n",
    "    p1 = (upper, rho/np.cos(theta))\n",
    "    p2 = (lower, (rho-lower*np.sin(theta))/np.cos(theta))\n",
    "    pixels = line_nd(p1, p2, endpoint=True)\n",
    "    \n",
    "    # Convert NumPy indices to OpenCV coordinates for proper drawing\n",
    "    cv_y, cv_x = pixels\n",
    "    coords = np.stack((cv_x.reshape(-1, 1), cv_y.reshape(-1, 1)), axis=2)\n",
    "    \n",
    "    # Take 1st quadrant coordinates only\n",
    "    coords = coords[coords.min(axis=2)>=0]\n",
    "    return coords\n",
    "    \n",
    "    \n",
    "def show_image(image, h=10, w=10, cmap=None):\n",
    "    plt.figure(figsize=(w,h))\n",
    "    plt.imshow(image, cmap=cmap)\n",
    "    plt.show()\n",
    "    \n",
    "def show_contours(image, contours, contourIdx='all', cmap=None):\n",
    "    # To draw all the contours in the image, set contourIdx to -1\n",
    "    if contourIdx == 'all':\n",
    "        contourIdx = -1\n",
    "\n",
    "    image = cv2.drawContours(image, contours, contourIdx=contourIdx, color=(255,0,0), thickness=1)\n",
    "    show_image(image, cmap=cmap)\n",
    "    \n",
    "def show_lines(image, params, cmap=None):\n",
    "    for p in params:\n",
    "        rho, theta = p.ravel()\n",
    "        a = np.cos(theta)\n",
    "        b = np.sin(theta)\n",
    "        x0 = a*rho\n",
    "        y0 = b*rho\n",
    "        x1 = int(x0 + 1000*(-b))\n",
    "        y1 = int(y0 + 1000*(a))\n",
    "        x2 = int(x0 - 1000*(-b))\n",
    "        y2 = int(y0 - 1000*(a))\n",
    "\n",
    "        cv2.line(image, (x1,y1), (x2,y2), color=(255,0,0), thickness=1)\n",
    "    \n",
    "    show_image(image, cmap=cmap)\n",
    "\n",
    "def show_image_pairs(left, right, h=15, w=15):\n",
    "    f, ax = plt.subplots(1,2)\n",
    "    f.set_figheight(h)\n",
    "    f.set_figwidth(w)\n",
    "    ax[0].imshow(left)\n",
    "    ax[1].imshow(right)\n",
    "    plt.show()"
   ]
  },
  {
   "cell_type": "markdown",
   "metadata": {
    "ExecuteTime": {
     "end_time": "2020-12-01T16:05:29.659280Z",
     "start_time": "2020-12-01T16:05:29.656454Z"
    }
   },
   "source": [
    "## UI Callback Functions\n",
    "\n",
    "Register a callback for configuration of image processing methods here if needed."
   ]
  },
  {
   "cell_type": "code",
   "execution_count": null,
   "metadata": {
    "ExecuteTime": {
     "end_time": "2020-12-01T18:13:24.871304Z",
     "start_time": "2020-12-01T18:13:24.857448Z"
    }
   },
   "outputs": [],
   "source": [
    "def threshold_config(thresh, maxval, type):\n",
    "    return {\"thresh\": thresh, \"maxval\": maxval, \"type\": type}\n",
    "\n",
    "def adaptive_threshold_config(maxValue, adaptiveMethod, thresholdType, blockSize, C):\n",
    "    return {\"maxValue\": maxValue, \"adaptiveMethod\": adaptiveMethod, \"thresholdType\": thresholdType, \"blockSize\": blockSize, \"C\": C}\n",
    "\n",
    "def avg_blur_config(ksize):\n",
    "    return {\"ksize\": (ksize, ksize)}\n",
    "\n",
    "def median_blur_config(ksize):\n",
    "    return {\"ksize\": (ksize, ksize)}\n",
    "\n",
    "def bilateral_filter_config(d, sigmaColor, sigmaSpace):\n",
    "    return {\"d\": d, \"sigmaColor\": sigmaColor, \"sigmaSpace\": sigmaSpace}\n",
    "\n",
    "def gaussian_blur_config(ksize, sigmaX):\n",
    "    return {\"ksize\": (ksize, ksize), \"sigmaX\": sigmaX}\n",
    "\n",
    "def laplacian_config(ksize):\n",
    "    return {\"ksize\": ksize}\n",
    "    \n",
    "def sobelv_config(ksize):\n",
    "    return {\"ksize\": ksize}\n",
    "    \n",
    "def sobelh_config(ksize):\n",
    "    return {\"ksize\": ksize}\n",
    "\n",
    "def canny_config(threshold1, threshold2):\n",
    "    return {\"threshold1\": threshold1, \"threshold2\": threshold2}\n",
    "\n",
    "def hough_line_config(threshold):\n",
    "    return {\"threshold\": threshold}"
   ]
  },
  {
   "cell_type": "markdown",
   "metadata": {},
   "source": [
    "## Image Processing Functions\n",
    "\n",
    "Register image processing functions to be used here."
   ]
  },
  {
   "cell_type": "code",
   "execution_count": null,
   "metadata": {
    "ExecuteTime": {
     "end_time": "2020-12-01T18:13:25.954764Z",
     "start_time": "2020-12-01T18:13:25.911662Z"
    },
    "code_folding": [
     119,
     130,
     139,
     144,
     182,
     187,
     195,
     211
    ]
   },
   "outputs": [],
   "source": [
    "def convert_grayscale(image, **kwargs): # **kwargs is ignored\n",
    "    \"\"\"Takes an RGB (3 channel) image, returns the grayscale image (1 channel)\"\"\"\n",
    "    print(\"Converting to grayscale\")\n",
    "    return cv2.cvtColor(image, cv2.COLOR_BGR2GRAY)\n",
    "\n",
    "def enhance_contrast(image, **kwargs): # **kwargs is ignored\n",
    "    print(\"Enhancing contrast\")\n",
    "    return cv2.equalizeHist(image)\n",
    "\n",
    "def apply_threshold(gray_img, **kwargs):\n",
    "    \"\"\"Takes grayscale image, returns thresholded version.\"\"\"\n",
    "    print(\"Applying standard threshold with args:\", kwargs)\n",
    "    _retval, thresh_image = cv2.threshold(gray_img, **kwargs)\n",
    "    return thresh_image\n",
    "\n",
    "def apply_adaptive_threshold(gray_img, **kwargs):\n",
    "    \"\"\"Takes grayscale image, returns thresholded version.\"\"\"\n",
    "    print(\"Applying adaptive threshold with args:\", kwargs)\n",
    "    return cv2.adaptiveThreshold(gray_img, **kwargs)\n",
    "\n",
    "def apply_filter(image, kernel):\n",
    "    return cv2.filter2D(image, ddepth=-1, kernel=kernel)\n",
    "\n",
    "def apply_avg_blur(image, **kwargs):\n",
    "    print(\"Applying average blur with args:\", kwargs)\n",
    "    return cv2.blur(image, **kwargs)\n",
    "\n",
    "def apply_median_blur(image, **kwargs):\n",
    "    print(\"Applying median blur with args:\", kwargs)\n",
    "    return cv2.medianBlur(img, ksize=(ksize,ksize))\n",
    "\n",
    "def apply_bilateral_filter(image, **kwargs):\n",
    "    print(\"Applying bilateral filter with args:\", kwargs)\n",
    "    return cv2.bilateralFilter(image, **kwargs)\n",
    "\n",
    "def apply_gaussian_blur(image, **kwargs):\n",
    "    print(\"Applying Gaussian blur with args:\", kwargs)\n",
    "    return cv2.GaussianBlur(image, **kwargs)\n",
    "\n",
    "def apply_laplacian(image, **kwargs): # TODO:\n",
    "    print(\"Applying Laplacian filter for vertical and horizontal edges with args:\", kwargs)\n",
    "    return cv2.Laplacian(image, cv2.CV_64F, **kwargs)\n",
    "\n",
    "def apply_sobelv(image, **kwargs): # TODO:\n",
    "    print(\"Applying Sobel filter for vertical edges (along y-axis) with args:\", kwargs)\n",
    "    return cv2.Sobel(image, cv2.CV_64F, dx=1, dy=0, **kwargs)\n",
    "\n",
    "def apply_sobelh(image, **kwargs): # TODO:\n",
    "    print(\"Applying Sobel filter for horizontal edges (along x-axis) with args:\", kwargs)\n",
    "    return cv2.Sobel(image, cv2.CV_64F, dx=0, dy=1, **kwargs)\n",
    "\n",
    "def apply_canny(image, **kwargs):\n",
    "    \"\"\"Takes an RGB or grayscale image, returns the binary mask for edge locations\"\"\"\n",
    "    print(\"Applying canny with args:\", kwargs)\n",
    "    return cv2.Canny(image, **kwargs)\n",
    "\n",
    "def apply_contour(image, **kwargs):\n",
    "    \"\"\"\n",
    "    Takes binary image (obtained with Canny or thresholding) to find contours (which separate white region from black background).\n",
    "    'contours' is a list of all the contours in the image. \n",
    "    Each individual contour is a Numpy array of (x,y) coordinates of boundary points of the object.\n",
    "    Returns 'contours'.\n",
    "    \"\"\"\n",
    "    print(\"Applying contours with args:\", kwargs)\n",
    "#     gray_img = convert_grayscale(image)\n",
    "#     _retval, thresh_img = cv2.threshold(gray_img, thresh=225, maxval=255, type=cv2.THRESH_BINARY)\n",
    "#     _image, contours, _hierarchy = cv2.findContours(thresh_img, mode=cv2.RETR_TREE, method=cv2.CHAIN_APPROX_SIMPLE)\n",
    "    _image, contours, _hierarchy = cv2.findContours(image, mode=cv2.RETR_TREE, method=cv2.CHAIN_APPROX_SIMPLE)\n",
    "    return contours\n",
    "\n",
    "def apply_hough_line(image, **kwargs):\n",
    "    \"\"\"\n",
    "    Takes binary image (obtained with Canny or thresholding) to find parameters of lines that exist in the image.\n",
    "    'line_params' is a list of parameters for each line in the image. \n",
    "    Each individual line parameter is a Numpy array of (rho, theta) parameters of the line.\n",
    "    Returns pixel coordinates for all points of each line.\n",
    "    \"\"\"\n",
    "    print(\"Applying Hough line with args:\", kwargs)\n",
    "#     gray_img = convert_grayscale(image)\n",
    "#     _, thresh_img = cv2.threshold(gray_img, thresh=100, maxval=255, type=cv2.THRESH_BINARY)\n",
    "#     line_params = cv2.HoughLines(thresh_img, rho=1, theta=np.pi/180, threshold=600)\n",
    "    line_params = cv2.HoughLines(image, rho=1, theta=np.pi/180, **kwargs)\n",
    "    \n",
    "    # Construct each line and store respective mask\n",
    "    line_pixels = []\n",
    "    for p in [line_params[500]]:\n",
    "        rho, theta = p.ravel()\n",
    "        pixels = compute_line_pixels(image.shape, rho, theta)\n",
    "        line_pixels.append(pixels)\n",
    "\n",
    "    return line_pixels"
   ]
  },
  {
   "cell_type": "markdown",
   "metadata": {},
   "source": [
    "# Load Frames"
   ]
  },
  {
   "cell_type": "code",
   "execution_count": null,
   "metadata": {
    "ExecuteTime": {
     "end_time": "2020-12-01T18:13:26.839249Z",
     "start_time": "2020-12-01T18:13:26.785355Z"
    }
   },
   "outputs": [],
   "source": [
    "# indices = list(range(1, 16))\n",
    "# choice = str(random.choice(indices))\n",
    "# print(\"Choice:\", choice)\n",
    "choice = str(13)\n",
    "\n",
    "rgb_img_ext = choice + \"_rgb.png\"\n",
    "depth_img_ext = choice + \"_depth.png\"\n",
    "depth_arr_ext = choice + \"_depth.npy\"\n",
    "\n",
    "folders = os.listdir(\"frames\")\n",
    "folders = list(map(lambda folder: os.path.join(\"frames\", folder), folders))\n",
    "triplets = []\n",
    "for folder in folders:\n",
    "    rgb_im_path = os.path.join(folder, rgb_img_ext)\n",
    "    depth_im_path = os.path.join(folder, depth_img_ext)\n",
    "    depth_arr_path = os.path.join(folder, depth_arr_ext)\n",
    "    \n",
    "    rgb_img = cv2.imread(rgb_im_path, cv2.IMREAD_COLOR)     # BGR image\n",
    "    depth_img = cv2.imread(depth_im_path, cv2.IMREAD_COLOR) # BGR image\n",
    "    depth_arr = None # np.load(depth_arr_path, allow_pickle=True) # TODO: Save frames with allow_pickle=False\n",
    "    triplets.append((rgb_img, depth_img, depth_arr))\n",
    "    \n",
    "print(\"Number of triplets:\", len(triplets))"
   ]
  },
  {
   "cell_type": "code",
   "execution_count": null,
   "metadata": {
    "ExecuteTime": {
     "end_time": "2020-12-01T18:13:27.820921Z",
     "start_time": "2020-12-01T18:13:27.586986Z"
    }
   },
   "outputs": [],
   "source": [
    "# indices = list(range(8))\n",
    "# choice = str(random.choice(indices))\n",
    "# print(\"Choice:\", choice)\n",
    "choice = 4\n",
    "\n",
    "rgb_img, depth_img, depth_arr = triplets[choice]\n",
    "\n",
    "show_image_pairs(rgb_img, depth_img)"
   ]
  },
  {
   "cell_type": "markdown",
   "metadata": {},
   "source": [
    "# Configure Parameters & Select Methods\n",
    "\n",
    "Bind names to the methods, configurations to UI elements here if needed."
   ]
  },
  {
   "cell_type": "code",
   "execution_count": null,
   "metadata": {
    "ExecuteTime": {
     "end_time": "2020-12-01T18:15:09.869328Z",
     "start_time": "2020-12-01T18:15:09.827903Z"
    }
   },
   "outputs": [],
   "source": [
    "# Parameters to tune\n",
    "config = {\n",
    "    \"Grayscale\": {},\n",
    "    \"Contrast\": {},\n",
    "    \"Contour\": {},\n",
    "    \"Threshold\": {\n",
    "        \"thresh\": 127, \n",
    "        \"maxval\": 255, \n",
    "        \"type\": cv2.THRESH_BINARY,\n",
    "    },\n",
    "    \"Adaptive Threshold\": {\n",
    "        \"maxValue\": 255, \n",
    "        \"adaptiveMethod\": cv2.ADAPTIVE_THRESH_MEAN_C, \n",
    "        \"thresholdType\": cv2.THRESH_BINARY, \n",
    "        \"blockSize\": 11, \n",
    "        \"C\": 2\n",
    "    },\n",
    "    \"Average Blur\": {\n",
    "        \"ksize\": 3\n",
    "    },\n",
    "    \"Median Blur\": {\n",
    "        \"ksize\": 3\n",
    "    },\n",
    "    \"Bilateral Filter\": {\n",
    "        \"d\":9, \n",
    "        \"sigmaColor\": 75, \n",
    "        \"sigmaSpace\": 75\n",
    "    },\n",
    "    \"Gaussian Blur\": {\n",
    "        \"ksize\": 5, \n",
    "        \"sigma\": 3\n",
    "    },\n",
    "    \"Laplacian\": {\n",
    "        \"ksize\": 3,\n",
    "    },\n",
    "    \"Sobel Vertical\": {\n",
    "        \"ksize\": 3,\n",
    "    },\n",
    "    \"Sobel Horizontal\": {\n",
    "        \"ksize\": 3,\n",
    "    },\n",
    "    \"Canny Edges\": {\n",
    "        \"threshold1\": 25,\n",
    "        \"threshold2\": 50\n",
    "    },\n",
    "    \"Hough Line\": {\n",
    "        \"threshold\": 200,\n",
    "    },\n",
    "   \n",
    "}\n",
    "\n",
    "# Binding names to actual methods:\n",
    "preproc_funcs = {\n",
    "    \"Grayscale\": convert_grayscale,\n",
    "    \"Contrast\": enhance_contrast,\n",
    "    \"Threshold\": apply_threshold,\n",
    "    \"Adaptive Threshold\": apply_adaptive_threshold,\n",
    "    \"Average Blur\": apply_avg_blur,\n",
    "    \"Median Blur\": apply_median_blur,\n",
    "    \"Bilateral Filter\": apply_bilateral_filter,\n",
    "    \"Gaussian Blur\": apply_gaussian_blur,  \n",
    "    \"Laplacian\": apply_laplacian,\n",
    "    \"Sobel Vertical\": apply_sobelv,\n",
    "    \"Sobel Horizontal\": apply_sobelh,\n",
    "}\n",
    "\n",
    "detect_funcs = {\n",
    "    \"Canny Edges\": apply_canny,\n",
    "    \"Contour\": apply_contour,\n",
    "    \"Hough Line\": apply_hough_line,\n",
    "}\n",
    "\n",
    "funcs = {**preproc_funcs, **detect_funcs}\n",
    "\n",
    "# Defining UI elements for configurations\n",
    "threshold_ui = lambda: interactive(threshold_config, thresh=(0,255), maxval=(0,255), \n",
    "                           type={\"Binary\": cv2.THRESH_BINARY,\n",
    "                                 \"Binary Inverted\": cv2.THRESH_BINARY_INV,\n",
    "                                 \"Trunctate\": cv2.THRESH_TRUNC,\n",
    "                                 \"To Zero\": cv2.THRESH_TOZERO,\n",
    "                                 \"To Zero Inverted\": cv2.THRESH_TOZERO_INV})\n",
    "adaptive_threshold_ui = lambda: interactive(adaptive_threshold_config, \n",
    "                                       maxValue=(0,255), \n",
    "                                       adaptiveMethod={\n",
    "                                           'Adaptive Gaussian Thresholding': cv2.ADAPTIVE_THRESH_GAUSSIAN_C,\n",
    "                                           'Adaptive Mean Thresholding': cv2.ADAPTIVE_THRESH_MEAN_C},\n",
    "                                       thresholdType={\"Binary\": cv2.THRESH_BINARY,\n",
    "                                                      \"Binary Inverted\": cv2.THRESH_BINARY_INV,\n",
    "                                                      \"Trunctate\": cv2.THRESH_TRUNC,\n",
    "                                                      \"To Zero\": cv2.THRESH_TOZERO,\n",
    "                                                      \"To Zero Inverted\": cv2.THRESH_TOZERO_INV},\n",
    "                                       blockSize=(0,20),\n",
    "                                       C=(0,20))\n",
    "avg_blur_ui = lambda: interactive(avg_blur_config, ksize=(1,20))\n",
    "median_blur_ui = lambda: interactive(median_blur_config, ksize=(1,20))\n",
    "bilateral_filter_ui = lambda: interactive(bilateral_filter_config, d=(1,20), sigmaColor=(1,100), sigmaSpace=(1,100))\n",
    "gaussian_blur_ui = lambda: interactive(gaussian_blur_config, ksize=(1,20), sigmaX=(1,20))\n",
    "laplacian_ui = lambda: interactive(laplacian_config, ksize=(1,20))\n",
    "sobelv_ui = lambda: interactive(sobelv_config, ksize=(1,20))\n",
    "sobelh_ui = lambda: interactive(sobelh_config, ksize=(1,20))\n",
    "canny_ui = lambda: interactive(canny_config, threshold1=(0,100), threshold2=(0,100))\n",
    "hough_line_ui = lambda: interactive(hough_line_config, threshold=(0,1000))\n",
    "\n",
    "# Binding names to the configuration UI elements\n",
    "preproc_ui = {\n",
    "    \"Grayscale\": None,\n",
    "    \"Contrast\": None,\n",
    "    \"Threshold\": threshold_ui,\n",
    "    \"Adaptive Threshold\": adaptive_threshold_ui,\n",
    "    \"Average Blur\": avg_blur_ui,\n",
    "    \"Median Blur\": median_blur_ui,\n",
    "    \"Bilateral Filter\": bilateral_filter_ui,\n",
    "    \"Gaussian Blur\": gaussian_blur_ui,\n",
    "    \"Laplacian\": laplacian_ui,\n",
    "    \"Sobel Vertical\": sobelv_ui,\n",
    "    \"Sobel Horizontal\": sobelh_ui,\n",
    "}\n",
    "\n",
    "detect_ui = {\n",
    "    \"Canny Edges\": canny_ui,\n",
    "    \"Contour\": None,\n",
    "    \"Hough Line\": hough_line_ui,\n",
    "}\n",
    "\n",
    "ui_elements = {**preproc_ui, **detect_ui}"
   ]
  },
  {
   "cell_type": "code",
   "execution_count": null,
   "metadata": {
    "ExecuteTime": {
     "end_time": "2020-12-01T18:13:30.124808Z",
     "start_time": "2020-12-01T18:13:30.049707Z"
    }
   },
   "outputs": [],
   "source": [
    "style = {\n",
    "    'description_width': 'initial'\n",
    "}\n",
    "\n",
    "def push(stack, log, e):\n",
    "    stack.append(e.description)\n",
    "    with log:\n",
    "        log.clear_output()\n",
    "        for i, func in enumerate(stack):\n",
    "            print(\"{}: {}\".format(i, func))\n",
    "\n",
    "def pop(stack, log):\n",
    "    if len(stack) > 0:\n",
    "        stack.pop()\n",
    "    with log:\n",
    "        log.clear_output()\n",
    "        for i, func in enumerate(stack):\n",
    "            print(\"{}: {}\".format(i, func))\n",
    "\n",
    "func_stack = []\n",
    "add_buttons = []\n",
    "log = Output(layout={'margin': '0px 50px 0px 50px', 'width': \"200px\"})\n",
    "\n",
    "for item in ui_elements:\n",
    "    button = Button(\n",
    "        description=item,\n",
    "        disabled=False,\n",
    "        button_style='success', # 'success', 'info', 'warning', 'danger' or ''\n",
    "    )\n",
    "    button.on_click(lambda e: push(func_stack, log, e))\n",
    "    add_buttons.append(button)\n",
    "\n",
    "pop_button = Button(\n",
    "    description=\"Pop\",\n",
    "    disabled=False,\n",
    "    button_style='danger', # 'success', 'info', 'warning', 'danger' or ''\n",
    ")\n",
    "pop_button.on_click(lambda _: pop(func_stack, log))\n",
    "    \n",
    "buttons = HBox([VBox(add_buttons), log, pop_button])\n",
    "\n",
    "display(buttons)"
   ]
  },
  {
   "cell_type": "code",
   "execution_count": null,
   "metadata": {
    "ExecuteTime": {
     "end_time": "2020-12-01T18:18:33.748509Z",
     "start_time": "2020-12-01T18:18:33.715242Z"
    }
   },
   "outputs": [],
   "source": [
    "ui_instances = []\n",
    "for i, k in enumerate(func_stack):\n",
    "    if ui_elements[k]:\n",
    "        print(\"{} {}:\".format(i, k))\n",
    "        ui_instance = ui_elements[k]()\n",
    "        display(ui_instance)\n",
    "        ui_instances.append(ui_instance)\n",
    "    else:\n",
    "        ui_instances.append(None)"
   ]
  },
  {
   "cell_type": "markdown",
   "metadata": {},
   "source": [
    "# Apply Methods in the Order"
   ]
  },
  {
   "cell_type": "code",
   "execution_count": null,
   "metadata": {
    "ExecuteTime": {
     "end_time": "2020-12-01T18:18:52.963916Z",
     "start_time": "2020-12-01T18:18:52.704362Z"
    }
   },
   "outputs": [],
   "source": [
    "config_stack = []\n",
    "\n",
    "for ui_instance in ui_instances:\n",
    "    config = {}\n",
    "    if ui_instance:\n",
    "        config = ui_instance.result\n",
    "    config_stack.append(config)\n",
    "\n",
    "orig = depth_img\n",
    "modified = orig.copy() # Modify the deep copy of the original image\n",
    "show_image(orig)\n",
    "\n",
    "\n",
    "for i in range(len(func_stack)):\n",
    "    key = func_stack[i]\n",
    "    modified = funcs[key](modified, **config_stack[i])\n",
    "show_image(modified)"
   ]
  },
  {
   "cell_type": "markdown",
   "metadata": {},
   "source": [
    "# Store Current Settings"
   ]
  },
  {
   "cell_type": "code",
   "execution_count": null,
   "metadata": {
    "ExecuteTime": {
     "end_time": "2020-12-01T10:32:29.162190Z",
     "start_time": "2020-12-01T10:32:29.141224Z"
    }
   },
   "outputs": [],
   "source": [
    "text = Text(\n",
    "    value='config.json',\n",
    "    placeholder='Enter a filename',\n",
    "    description='Filename:',\n",
    "    disabled=False\n",
    ")\n",
    "\n",
    "\n",
    "button = Button(\n",
    "    description='Store',\n",
    "    disabled=False,\n",
    "    button_style='success', # 'success', 'info', 'warning', 'danger' or ''\n",
    ")\n",
    "\n",
    "mini_form = HBox([text, button])\n",
    "\n",
    "button.on_click(lambda _: save_config(text.value, config, selected))\n",
    "\n",
    "display(mini_form)"
   ]
  },
  {
   "cell_type": "markdown",
   "metadata": {},
   "source": [
    "# Load Settings from File"
   ]
  },
  {
   "cell_type": "code",
   "execution_count": null,
   "metadata": {
    "ExecuteTime": {
     "end_time": "2020-11-30T13:06:30.551932Z",
     "start_time": "2020-11-30T13:06:30.540390Z"
    }
   },
   "outputs": [],
   "source": [
    "uploader_ui = FileUpload(\n",
    "    accept='.json',  # Accepted file extension e.g. '.txt', '.pdf', 'image/*', 'image/*,.pdf'\n",
    "    multiple=False  # True to accept multiple files upload else False\n",
    ")\n",
    "\n",
    "uploader_ui.observe(lambda _: load_config(*uploader_ui.data, config, config_ui), names='_counter')\n",
    "\n",
    "display(uploader_ui)"
   ]
  },
  {
   "cell_type": "markdown",
   "metadata": {
    "ExecuteTime": {
     "end_time": "2020-11-30T12:30:37.997825Z",
     "start_time": "2020-11-30T12:30:37.979214Z"
    }
   },
   "source": [
    "# Experimental Features"
   ]
  },
  {
   "cell_type": "code",
   "execution_count": null,
   "metadata": {
    "ExecuteTime": {
     "end_time": "2020-12-01T12:50:07.428020Z",
     "start_time": "2020-12-01T12:50:07.416814Z"
    },
    "scrolled": true
   },
   "outputs": [],
   "source": [
    "orig = depth_img\n",
    "modified = orig.copy()\n",
    "contours = apply_contour(modified) # List of N contour arrays of shape (C, 1, 2) to represent C-many 2D points\n",
    "print(len(contours))\n",
    "print(contours[0].shape)\n",
    "print(contours[68].shape)\n",
    "show_image(orig)\n",
    "show_contours(modified, contours, contourIdx=-1)"
   ]
  },
  {
   "cell_type": "code",
   "execution_count": null,
   "metadata": {
    "ExecuteTime": {
     "end_time": "2020-12-01T15:09:55.339166Z",
     "start_time": "2020-12-01T15:09:54.914363Z"
    },
    "scrolled": true
   },
   "outputs": [],
   "source": [
    "orig = depth_img\n",
    "modified = orig.copy()\n",
    "show_image(orig)\n",
    "line_pixels = apply_hough_line(modified)\n",
    "# show_contours(modified, line_pixels, contourIdx=50)"
   ]
  },
  {
   "cell_type": "code",
   "execution_count": null,
   "metadata": {
    "ExecuteTime": {
     "end_time": "2020-11-30T17:03:03.891002Z",
     "start_time": "2020-11-30T17:03:03.282975Z"
    }
   },
   "outputs": [],
   "source": [
    "orig = depth_img\n",
    "gray = convert_grayscale(orig)\n",
    "edges1 = apply_laplacian(orig)\n",
    "edges2 = apply_sobelx(orig)\n",
    "edges3 = apply_sobely(orig)\n",
    "show_image(gray, cmap=\"gray\")\n",
    "show_image(edges1, cmap=\"gray\")\n",
    "show_image(edges2, cmap=\"gray\")\n",
    "show_image(edges3, cmap=\"gray\")"
   ]
  },
  {
   "cell_type": "markdown",
   "metadata": {},
   "source": [
    " # Help"
   ]
  },
  {
   "cell_type": "markdown",
   "metadata": {},
   "source": [
    "## Coordinate Conventions of NumPy and OpenCV"
   ]
  },
  {
   "cell_type": "markdown",
   "metadata": {},
   "source": [
    "Let us consider an arbitrary point P in the OpenCV coordinate system whose coordinates are (x, y). The same point in the NumPy image coordinate system is given by the coordinates (c, r).\n",
    "\n",
    "Assume that we need to manipulate the image at point P and that the image is stored in the NumPy array img. OpenCV functions typically expect us to provide the coordinate information in the order **(x, y)** for its image manipulation functions. However, to access the element at point P using NumPy, we need to do **img[r, c]**.\n",
    "\n",
    "### OpenCV Coordinates\n",
    "---\n",
    "![1st](notebook_images/opencv.png \"OpenCV Coordinates\")\n",
    "\n",
    "### NumPy Coordinates\n",
    "---\n",
    "![2nd](notebook_images/numpy.png \"NumPy Coordinates\")"
   ]
  },
  {
   "cell_type": "markdown",
   "metadata": {},
   "source": [
    "## cv2.COLOR_XXX"
   ]
  },
  {
   "cell_type": "markdown",
   "metadata": {},
   "source": [
    "[cv2.COLOR_XXX](https://vovkos.github.io/doxyrest-showcase/opencv/sphinx_rtd_theme/enum_cv_ColorConversionCodes.html)"
   ]
  },
  {
   "cell_type": "markdown",
   "metadata": {
    "ExecuteTime": {
     "end_time": "2020-11-30T13:30:07.127021Z",
     "start_time": "2020-11-30T13:30:07.125039Z"
    }
   },
   "source": [
    "## cv2.THRESH_XXX"
   ]
  },
  {
   "cell_type": "markdown",
   "metadata": {
    "ExecuteTime": {
     "end_time": "2020-11-30T13:14:14.696849Z",
     "start_time": "2020-11-30T13:14:14.693658Z"
    }
   },
   "source": [
    "[Thresholding](https://opencv-python-tutroals.readthedocs.io/en/latest/py_tutorials/py_imgproc/py_thresholding/py_thresholding.html)\n",
    "\n",
    "[cv2.THRESH_XXX](https://vovkos.github.io/doxyrest-showcase/opencv/sphinx_rtd_theme/enum_cv_ThresholdTypes.html)"
   ]
  },
  {
   "cell_type": "markdown",
   "metadata": {},
   "source": [
    "## cv2.cvtColor"
   ]
  },
  {
   "cell_type": "code",
   "execution_count": null,
   "metadata": {
    "ExecuteTime": {
     "end_time": "2020-11-30T13:26:28.319261Z",
     "start_time": "2020-11-30T13:26:28.316324Z"
    }
   },
   "outputs": [],
   "source": [
    "help(cv2.cvtColor)"
   ]
  },
  {
   "cell_type": "markdown",
   "metadata": {},
   "source": [
    "## cv2.equalizeHist"
   ]
  },
  {
   "cell_type": "code",
   "execution_count": null,
   "metadata": {
    "ExecuteTime": {
     "end_time": "2020-11-26T18:46:03.624884Z",
     "start_time": "2020-11-26T18:46:03.621940Z"
    }
   },
   "outputs": [],
   "source": [
    "help(cv2.equalizeHist)"
   ]
  },
  {
   "cell_type": "markdown",
   "metadata": {},
   "source": [
    "## cv2.threshold"
   ]
  },
  {
   "cell_type": "code",
   "execution_count": null,
   "metadata": {
    "ExecuteTime": {
     "end_time": "2020-11-30T17:50:55.921843Z",
     "start_time": "2020-11-30T17:50:55.918297Z"
    }
   },
   "outputs": [],
   "source": [
    "help(cv2.threshold)"
   ]
  },
  {
   "cell_type": "markdown",
   "metadata": {},
   "source": [
    "## cv2.adaptiveThreshold"
   ]
  },
  {
   "cell_type": "code",
   "execution_count": null,
   "metadata": {
    "ExecuteTime": {
     "end_time": "2020-12-01T10:13:02.746401Z",
     "start_time": "2020-12-01T10:13:02.742866Z"
    }
   },
   "outputs": [],
   "source": [
    "help(cv2.adaptiveThreshold)"
   ]
  },
  {
   "cell_type": "markdown",
   "metadata": {},
   "source": [
    "## cv2.filter2D"
   ]
  },
  {
   "cell_type": "code",
   "execution_count": null,
   "metadata": {
    "ExecuteTime": {
     "end_time": "2020-11-26T18:46:04.136057Z",
     "start_time": "2020-11-26T18:46:04.132968Z"
    }
   },
   "outputs": [],
   "source": [
    "help(cv2.filter2D)"
   ]
  },
  {
   "cell_type": "markdown",
   "metadata": {},
   "source": [
    "## cv2.blur"
   ]
  },
  {
   "cell_type": "code",
   "execution_count": null,
   "metadata": {
    "ExecuteTime": {
     "end_time": "2020-11-26T18:46:04.728688Z",
     "start_time": "2020-11-26T18:46:04.724068Z"
    }
   },
   "outputs": [],
   "source": [
    "help(cv2.blur)"
   ]
  },
  {
   "cell_type": "markdown",
   "metadata": {},
   "source": [
    "## cv2.medianBlur"
   ]
  },
  {
   "cell_type": "code",
   "execution_count": null,
   "metadata": {
    "ExecuteTime": {
     "end_time": "2020-11-26T18:46:05.107402Z",
     "start_time": "2020-11-26T18:46:05.103901Z"
    }
   },
   "outputs": [],
   "source": [
    "help(cv2.medianBlur)"
   ]
  },
  {
   "cell_type": "markdown",
   "metadata": {},
   "source": [
    "## cv2.bilateralFilter"
   ]
  },
  {
   "cell_type": "code",
   "execution_count": null,
   "metadata": {
    "ExecuteTime": {
     "end_time": "2020-11-26T18:46:05.920885Z",
     "start_time": "2020-11-26T18:46:05.917720Z"
    }
   },
   "outputs": [],
   "source": [
    "help(cv2.bilateralFilter)"
   ]
  },
  {
   "cell_type": "markdown",
   "metadata": {},
   "source": [
    "## cv2.GaussianBlur"
   ]
  },
  {
   "cell_type": "code",
   "execution_count": null,
   "metadata": {
    "ExecuteTime": {
     "end_time": "2020-11-26T18:46:06.693074Z",
     "start_time": "2020-11-26T18:46:06.690346Z"
    }
   },
   "outputs": [],
   "source": [
    "help(cv2.GaussianBlur)"
   ]
  },
  {
   "cell_type": "markdown",
   "metadata": {},
   "source": [
    "## cv2.Sobel"
   ]
  },
  {
   "cell_type": "code",
   "execution_count": null,
   "metadata": {
    "ExecuteTime": {
     "end_time": "2020-12-01T16:01:33.854874Z",
     "start_time": "2020-12-01T16:01:33.852154Z"
    }
   },
   "outputs": [],
   "source": [
    "help(cv2.Sobel)"
   ]
  },
  {
   "cell_type": "markdown",
   "metadata": {},
   "source": [
    "## cv2.Laplacian"
   ]
  },
  {
   "cell_type": "code",
   "execution_count": null,
   "metadata": {
    "ExecuteTime": {
     "end_time": "2020-12-01T16:00:51.708924Z",
     "start_time": "2020-12-01T16:00:51.705966Z"
    }
   },
   "outputs": [],
   "source": [
    "help(cv2.Laplacian)"
   ]
  },
  {
   "cell_type": "markdown",
   "metadata": {
    "heading_collapsed": true
   },
   "source": [
    "## cv2.Canny"
   ]
  },
  {
   "cell_type": "code",
   "execution_count": null,
   "metadata": {
    "ExecuteTime": {
     "end_time": "2020-11-30T16:10:19.874300Z",
     "start_time": "2020-11-30T16:10:19.871531Z"
    },
    "hidden": true
   },
   "outputs": [],
   "source": [
    "help(cv2.Canny)"
   ]
  },
  {
   "cell_type": "markdown",
   "metadata": {
    "hidden": true
   },
   "source": [
    "## cv2.findContours"
   ]
  },
  {
   "cell_type": "markdown",
   "metadata": {},
   "source": [
    "[Convex Hull](https://opencv-python-tutroals.readthedocs.io/en/latest/py_tutorials/py_imgproc/py_contours/py_contour_features/py_contour_features.html#convex-hull)\n",
    "\n",
    "[Fitting a Line](https://opencv-python-tutroals.readthedocs.io/en/latest/py_tutorials/py_imgproc/py_contours/py_contour_features/py_contour_features.html#fitting-a-line)\n",
    "\n",
    "[Mask and Pixel Points](https://opencv-python-tutroals.readthedocs.io/en/latest/py_tutorials/py_imgproc/py_contours/py_contour_properties/py_contour_properties.html#mask-and-pixel-points)\n",
    "\n",
    "[Match Shapes](https://opencv-python-tutroals.readthedocs.io/en/latest/py_tutorials/py_imgproc/py_contours/py_contours_more_functions/py_contours_more_functions.html#match-shapes)"
   ]
  },
  {
   "cell_type": "code",
   "execution_count": null,
   "metadata": {
    "ExecuteTime": {
     "end_time": "2020-12-01T11:29:52.769030Z",
     "start_time": "2020-12-01T11:29:52.766270Z"
    }
   },
   "outputs": [],
   "source": [
    "help(cv2.findContours)"
   ]
  },
  {
   "cell_type": "markdown",
   "metadata": {},
   "source": [
    "## cv2.HoughLines"
   ]
  },
  {
   "cell_type": "markdown",
   "metadata": {},
   "source": [
    "[Hough Transform Theory](https://opencv-python-tutroals.readthedocs.io/en/latest/py_tutorials/py_imgproc/py_houghlines/py_houghlines.html#theory)"
   ]
  },
  {
   "cell_type": "code",
   "execution_count": null,
   "metadata": {
    "ExecuteTime": {
     "end_time": "2020-12-01T11:05:42.577874Z",
     "start_time": "2020-12-01T11:05:42.574832Z"
    }
   },
   "outputs": [],
   "source": [
    "help(cv2.HoughLines)"
   ]
  },
  {
   "cell_type": "markdown",
   "metadata": {},
   "source": [
    "## Torchvision Models"
   ]
  },
  {
   "cell_type": "markdown",
   "metadata": {},
   "source": [
    "[Available Model List](https://pytorch.org/docs/stable/torchvision/models.html)"
   ]
  },
  {
   "cell_type": "code",
   "execution_count": null,
   "metadata": {},
   "outputs": [],
   "source": []
  }
 ],
 "metadata": {
  "kernelspec": {
   "display_name": "Python 3",
   "language": "python",
   "name": "python3"
  },
  "language_info": {
   "codemirror_mode": {
    "name": "ipython",
    "version": 3
   },
   "file_extension": ".py",
   "mimetype": "text/x-python",
   "name": "python",
   "nbconvert_exporter": "python",
   "pygments_lexer": "ipython3",
   "version": "3.7.9"
  },
  "toc": {
   "base_numbering": 1,
   "nav_menu": {},
   "number_sections": true,
   "sideBar": true,
   "skip_h1_title": false,
   "title_cell": "Table of Contents",
   "title_sidebar": "Contents",
   "toc_cell": false,
   "toc_position": {
    "height": "calc(100% - 180px)",
    "left": "10px",
    "top": "150px",
    "width": "211px"
   },
   "toc_section_display": true,
   "toc_window_display": true
  },
  "varInspector": {
   "cols": {
    "lenName": 16,
    "lenType": 16,
    "lenVar": 40
   },
   "kernels_config": {
    "python": {
     "delete_cmd_postfix": "",
     "delete_cmd_prefix": "del ",
     "library": "var_list.py",
     "varRefreshCmd": "print(var_dic_list())"
    },
    "r": {
     "delete_cmd_postfix": ") ",
     "delete_cmd_prefix": "rm(",
     "library": "var_list.r",
     "varRefreshCmd": "cat(var_dic_list()) "
    }
   },
   "types_to_exclude": [
    "module",
    "function",
    "builtin_function_or_method",
    "instance",
    "_Feature"
   ],
   "window_display": false
  }
 },
 "nbformat": 4,
 "nbformat_minor": 4
}
