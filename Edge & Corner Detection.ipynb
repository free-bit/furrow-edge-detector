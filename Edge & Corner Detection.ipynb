{
 "cells": [
  {
   "cell_type": "markdown",
   "metadata": {},
   "source": [
    "# Imports"
   ]
  },
  {
   "cell_type": "markdown",
   "metadata": {},
   "source": [
    "## Libraries"
   ]
  },
  {
   "cell_type": "code",
   "execution_count": null,
   "metadata": {
    "ExecuteTime": {
     "end_time": "2021-01-19T12:16:03.452525Z",
     "start_time": "2021-01-19T12:16:03.314253Z"
    }
   },
   "outputs": [],
   "source": [
    "import random\n",
    "import os\n",
    "import time\n",
    "\n",
    "import matplotlib\n",
    "\n",
    "from ipywidgets import *\n",
    "from IPython.display import display\n",
    "\n",
    "device = \"cpu\"\n",
    "\n",
    "%matplotlib inline\n",
    "%load_ext autoreload\n",
    "%autoreload 2"
   ]
  },
  {
   "cell_type": "markdown",
   "metadata": {},
   "source": [
    "## Import Utility Functions \n",
    "\n",
    "Importing from [utils.py](files/utils.py)."
   ]
  },
  {
   "cell_type": "code",
   "execution_count": null,
   "metadata": {
    "ExecuteTime": {
     "end_time": "2021-01-19T12:16:04.133110Z",
     "start_time": "2021-01-19T12:16:03.605096Z"
    },
    "code_folding": []
   },
   "outputs": [],
   "source": [
    "from utils import *"
   ]
  },
  {
   "cell_type": "markdown",
   "metadata": {},
   "source": [
    "## Import Image Processing Functions\n",
    "\n",
    "Importing from [image_processing.py](files/image_processing.py)."
   ]
  },
  {
   "cell_type": "code",
   "execution_count": null,
   "metadata": {
    "ExecuteTime": {
     "end_time": "2021-01-19T12:16:04.196685Z",
     "start_time": "2021-01-19T12:16:04.186478Z"
    },
    "code_folding": []
   },
   "outputs": [],
   "source": [
    "from image_processing import *"
   ]
  },
  {
   "cell_type": "markdown",
   "metadata": {},
   "source": [
    "# Load Frames"
   ]
  },
  {
   "cell_type": "markdown",
   "metadata": {
    "ExecuteTime": {
     "end_time": "2020-12-15T15:09:33.372312Z",
     "start_time": "2020-12-15T15:09:33.370239Z"
    }
   },
   "source": [
    "## Load all frames"
   ]
  },
  {
   "cell_type": "code",
   "execution_count": null,
   "metadata": {
    "ExecuteTime": {
     "end_time": "2021-01-19T12:16:06.828374Z",
     "start_time": "2021-01-19T12:16:06.591486Z"
    }
   },
   "outputs": [],
   "source": [
    "folders = [\"all_frames\"] # os.listdir(dataset)\n",
    "\n",
    "triplets_per_folder = {}\n",
    "MAX = 15\n",
    "\n",
    "for folder in folders:\n",
    "    triplets_per_folder[folder] = []\n",
    "    files = sorted(os.listdir(folder), key=lambda file: int(file.split(\"_\")[0]))\n",
    "    rgb_im_files = list(filter(lambda file: \"rgb.png\" in file, files))\n",
    "    depth_im_files = list(filter(lambda file: \"depth.png\" in file, files))\n",
    "    depth_arr_files = list(filter(lambda file: \"depth.npy\" in file, files))\n",
    "    num_files = len(rgb_im_files)\n",
    "    \n",
    "    step = num_files // MAX if MAX != np.inf else 1 # TODO: Remove later\n",
    "    idxs = range(0, num_files, step)\n",
    "    \n",
    "    for i in idxs:\n",
    "        rgb_im_path = os.path.join(folder, rgb_im_files[i])\n",
    "        depth_im_path = os.path.join(folder, depth_im_files[i])\n",
    "        depth_arr_path = os.path.join(folder, depth_arr_files[i])\n",
    "\n",
    "        rgb_img = cv2.imread(rgb_im_path, cv2.IMREAD_COLOR)     # BGR image\n",
    "        depth_img = cv2.imread(depth_im_path, cv2.IMREAD_COLOR) # BGR image\n",
    "        depth_arr = np.load(depth_arr_path)\n",
    "        \n",
    "        triplets_per_folder[folder].append((rgb_img, depth_img, depth_arr))\n",
    "    \n",
    "print(\"Number of folders:\", len(triplets_per_folder))\n",
    "for i, k in enumerate(folders):\n",
    "    print(\"{}) Loaded {} frames from {}\".format(i, len(triplets_per_folder[k]), k))"
   ]
  },
  {
   "cell_type": "markdown",
   "metadata": {
    "ExecuteTime": {
     "end_time": "2020-12-15T15:10:03.066139Z",
     "start_time": "2020-12-15T15:10:03.064146Z"
    }
   },
   "source": [
    "## Pick one frame"
   ]
  },
  {
   "cell_type": "code",
   "execution_count": null,
   "metadata": {
    "ExecuteTime": {
     "end_time": "2021-01-19T12:49:28.856848Z",
     "start_time": "2021-01-19T12:49:28.628924Z"
    },
    "scrolled": false
   },
   "outputs": [],
   "source": [
    "# folder_indices = list(range(8))\n",
    "# folder_idx = random.choice(folder_indices)\n",
    "# print(\"Folder choice:\", folder_idx)\n",
    "folder_idx = 0\n",
    "folder = folders[folder_idx]\n",
    "\n",
    "# file_indices = list(range(0, 120))\n",
    "# frame_idx = random.choice(file_indices)\n",
    "# print(\"Frame choice:\", frame_idx)\n",
    "frame_idx = 15\n",
    "\n",
    "print(\"Fetching frame: {} from folder: {}\".format(frame_idx+1, folder))\n",
    "rgb_img, depth_img, depth_arr = triplets_per_folder[folder][frame_idx]\n",
    "\n",
    "show_image_pairs(rgb_img, depth_img)\n",
    "\n",
    "# for i in range(len(triplets_per_folder[\"all_frames\"])):\n",
    "#     rgb_img, depth_img, depth_arr = triplets_per_folder[folder][i]\n",
    "\n",
    "#     show_image_pairs(rgb_img, depth_img)"
   ]
  },
  {
   "cell_type": "markdown",
   "metadata": {
    "ExecuteTime": {
     "end_time": "2020-11-30T12:30:37.997825Z",
     "start_time": "2020-11-30T12:30:37.979214Z"
    }
   },
   "source": [
    "# Detect Corners & Edge"
   ]
  },
  {
   "cell_type": "code",
   "execution_count": null,
   "metadata": {
    "ExecuteTime": {
     "end_time": "2021-01-19T12:49:55.659481Z",
     "start_time": "2021-01-19T12:49:55.645501Z"
    },
    "scrolled": true
   },
   "outputs": [],
   "source": [
    "template = create_template(size=30, position=1)"
   ]
  },
  {
   "cell_type": "code",
   "execution_count": null,
   "metadata": {
    "ExecuteTime": {
     "end_time": "2021-01-19T13:38:17.700659Z",
     "start_time": "2021-01-19T13:38:13.965051Z"
    },
    "scrolled": false
   },
   "outputs": [],
   "source": [
    "# Fit a curve (2nd degree polynomial) to inlier detections\n",
    "edge_pixels, inliers, outliers = apply_template_matching(depth_arr,\n",
    "                                                         template,\n",
    "                                                         start_depth=1.0,    # Given in depth-scale\n",
    "                                                         contour_width=25,   # Given in y-scale\n",
    "                                                         y_step=5,           # Given in y-scale\n",
    "                                                         n_contours=1000,\n",
    "                                                         dynamic_width=True,\n",
    "                                                         ransac_thresh=15,\n",
    "                                                         score_thresh=None,\n",
    "                                                         roi=[None,None,250,None],\n",
    "                                                         fit_type=\"curve\",\n",
    "                                                         verbose=3)\n",
    "\n",
    "# Visualize inlier and outlier corners\n",
    "plt.figure(figsize=(10,10))\n",
    "plt.imshow(depth_img)\n",
    "inlier_pts = plt.scatter(inliers[:,1], inliers[:,0], color=\"black\", marker=\"o\")\n",
    "outlier_pts = plt.scatter(outliers[:,1], outliers[:,0], color=\"purple\", marker=\"^\")\n",
    "plt.legend((inlier_pts, outlier_pts), (\"inliers\", \"outliers\"), loc=1)\n",
    "plt.show()\n",
    "# plt.savefig(f\"out/pts_{frame_idx}.png\")\n",
    "\n",
    "# Visualize inlier and outlier corners and fitted curve\n",
    "plt.figure(figsize=(10,10))\n",
    "plt.imshow(depth_img)\n",
    "plt.plot(edge_pixels[:,1], edge_pixels[:,0], color=\"cyan\")\n",
    "inlier_pts = plt.scatter(inliers[:,1], inliers[:,0], color=\"black\", marker=\"o\")\n",
    "outlier_pts = plt.scatter(outliers[:,1], outliers[:,0], color=\"purple\", marker=\"^\")\n",
    "plt.legend((inlier_pts, outlier_pts), (\"inliers\", \"outliers\"), loc=1)\n",
    "plt.show()\n",
    "# plt.savefig(f\"out/pts_{frame_idx}.png\")\n",
    "\n",
    "# Create binary mask for the curve fitted\n",
    "mask = np.zeros(depth_arr.shape, dtype=np.bool)\n",
    "tmp = convert_coord2mask(depth_arr.shape, edge_pixels)\n",
    "mask = mask | tmp\n",
    "    \n",
    "# Overlay the mask on original RGB\n",
    "overlaid = rgb_img.copy()\n",
    "color = (0, 0, 0) if len(overlaid.shape) == 3 else 255\n",
    "overlaid[mask == 255] = color\n",
    "plt.figure(figsize=(10,10))\n",
    "plt.imshow(overlaid)\n",
    "plt.show()\n",
    "# plt.savefig(f\"out/rgb_overlay_{frame_idx}.png\")\n",
    "\n",
    "# Overlay the mask on original depth\n",
    "overlaid = depth_img.copy()\n",
    "color = (0, 0, 0) if len(overlaid.shape) == 3 else 255\n",
    "overlaid[mask == 255] = color\n",
    "plt.figure(figsize=(10,10))\n",
    "plt.imshow(overlaid)\n",
    "plt.show()\n",
    "# plt.savefig(f\"out/depth_overlay_{frame_idx}.png\")"
   ]
  }
 ],
 "metadata": {
  "kernelspec": {
   "display_name": "Python 3",
   "language": "python",
   "name": "python3"
  },
  "language_info": {
   "codemirror_mode": {
    "name": "ipython",
    "version": 3
   },
   "file_extension": ".py",
   "mimetype": "text/x-python",
   "name": "python",
   "nbconvert_exporter": "python",
   "pygments_lexer": "ipython3",
   "version": "3.7.9"
  },
  "toc": {
   "base_numbering": 1,
   "nav_menu": {},
   "number_sections": true,
   "sideBar": true,
   "skip_h1_title": false,
   "title_cell": "Table of Contents",
   "title_sidebar": "Contents",
   "toc_cell": false,
   "toc_position": {
    "height": "705px",
    "left": "94px",
    "top": "110px",
    "width": "266px"
   },
   "toc_section_display": true,
   "toc_window_display": true
  },
  "varInspector": {
   "cols": {
    "lenName": 16,
    "lenType": 16,
    "lenVar": 40
   },
   "kernels_config": {
    "python": {
     "delete_cmd_postfix": "",
     "delete_cmd_prefix": "del ",
     "library": "var_list.py",
     "varRefreshCmd": "print(var_dic_list())"
    },
    "r": {
     "delete_cmd_postfix": ") ",
     "delete_cmd_prefix": "rm(",
     "library": "var_list.r",
     "varRefreshCmd": "cat(var_dic_list()) "
    }
   },
   "position": {
    "height": "711px",
    "left": "1017px",
    "right": "20px",
    "top": "230px",
    "width": "750px"
   },
   "types_to_exclude": [
    "module",
    "function",
    "builtin_function_or_method",
    "instance",
    "_Feature"
   ],
   "window_display": false
  }
 },
 "nbformat": 4,
 "nbformat_minor": 4
}
